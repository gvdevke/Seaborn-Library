{
 "cells": [
  {
   "cell_type": "markdown",
   "id": "b11e2e8c",
   "metadata": {},
   "source": [
    "# <font color=blue> **Seaborn**"
   ]
  },
  {
   "cell_type": "markdown",
   "id": "23adaeb3",
   "metadata": {},
   "source": [
    "## <font color=magneta> **Visualize Distributions With Seaborn**"
   ]
  },
  {
   "cell_type": "markdown",
   "id": "335036a8",
   "metadata": {},
   "source": [
    "### <font color=darkred>**Introduction**\n",
    "Seaborn is a library that uses Matplotlib underneath to plot graphs. It will be used to visualize random distributions.\n",
    "\n",
    "Seaborn is a popular data visualization library for Python\n",
    "Seaborn combines aesthetic appeal and technical insights – two crucial cogs in a data science project.\n",
    "    \n",
    "There is just something extraordinary about a well-designed visualization. The colors stand out, the layers blend nicely together, the contours flow throughout, and the overall package not only has a nice aesthetic quality, but it provides meaningful insights to us as well."
   ]
  },
  {
   "cell_type": "markdown",
   "id": "ae78d9aa",
   "metadata": {},
   "source": [
    "### <font color=darkred>**What is Seaborn?** \n",
    "Have you ever used the ggplot2 library in R? It’s one of the best visualization packages in any tool or language. Seaborn gives me the same overall feel.\n",
    "\n",
    "Seaborn is an amazing Python visualization library built on top of matplotlib.\n",
    "\n",
    "It gives us the capability to create amplified data visuals. This helps us understand the data by displaying it in a visual context to unearth any hidden correlations between variables or trends that might not be obvious initially. Seaborn has a high-level interface as compared to the low level of Matplotlib."
   ]
  },
  {
   "cell_type": "markdown",
   "id": "e68dbe7b",
   "metadata": {},
   "source": [
    "### <font color=darkred>**Why should you use Seaborn versus matplotlib?** \n",
    "I’ve been talking about how awesome seaborn is so you might be wondering what all the fuss is about.\n",
    "\n",
    "I’ll answer that question comprehensively in a practical manner when we generate plots using seaborn. For now, let’s quickly talk about how seaborn feels like it’s a step above matplotlib.\n",
    "\n",
    "Seaborn makes our charts and plots look engaging and enables some of the common data visualization needs (like mapping color to a variable or using faceting). Basically, it makes the data visualization and exploration easy to conquer. And trust me, that is no easy task in data science.\n",
    "\n",
    "“If Matplotlib “tries to make easy things easy and hard things possible”, seaborn tries to make a well-defined set of hard things easy too.” – Michael Waskom (Creator of Seaborn)\n",
    "There are essentially a couple of (big) limitations in matplotlib that Seaborn fixes:\n",
    "\n",
    "Seaborn comes with a large number of high-level interfaces and customized themes that matplotlib lacks as it’s not easy to figure out the settings that make plots attractive\n",
    "Matplotlib functions don’t work well with dataframes, whereas seaborn does\n",
    "That second point stands out in data science since we work quite a lot with dataframes. Any other reason(s) you feel seaborn is superior to matplotlib? Let us know in the comments section below the article!"
   ]
  },
  {
   "cell_type": "markdown",
   "id": "daf5c7de",
   "metadata": {},
   "source": [
    "### <font color=darkred>**Datasets Used for Data Visualization** \n",
    "We’ll be working primarily with two datasets:\n",
    "\n",
    "HR analytics challenge\n",
    "Predict the number of Upvotes\n",
    "I’ve picked these two because they contain a multitude of variables so we have plenty of options to play around with. Both these datasets also mimic real-world scenarios so you’ll get an idea of how data visualization and exploration work in the industry."
   ]
  },
  {
   "cell_type": "markdown",
   "id": "e4695299",
   "metadata": {},
   "source": [
    "### <font color=darkred>**Data Visualization using Seaborn**\n",
    "Let’s get started! I have divided this implementation section into two categories:\n",
    "\n",
    "Visualizing statistical relationships\n",
    "Plotting categorical data\n",
    "We’ll look at multiple examples of each category and how to plot it using seaborn."
   ]
  },
  {
   "cell_type": "markdown",
   "id": "d9b04023",
   "metadata": {},
   "source": [
    "### <font color=darkred> **Visualizing statistical relationships**\n",
    "A statistical relationship denotes a process of understanding relationships between different variables in a dataset and how that relationship affects or depends on other variables.\n",
    "\n",
    "Here, we’ll be using seaborn to generate the below plots:\n",
    "\n",
    "    Scatter plot\n",
    "    SNS.relplot\n",
    "    Hue plot"
   ]
  },
  {
   "cell_type": "markdown",
   "id": "4bf9cf82",
   "metadata": {},
   "source": [
    "## Import Seaborn and loading dataset"
   ]
  },
  {
   "cell_type": "code",
   "execution_count": 1,
   "id": "c355109e",
   "metadata": {},
   "outputs": [],
   "source": [
    "import seaborn as sns\n",
    "import pandas\n",
    "import matplotlib.pyplot as plt"
   ]
  },
  {
   "cell_type": "markdown",
   "id": "b7f78142",
   "metadata": {},
   "source": [
    "## Seaborn has 18 in-built datasets, that can be found using the following command."
   ]
  },
  {
   "cell_type": "code",
   "execution_count": 2,
   "id": "f2f17b4f",
   "metadata": {},
   "outputs": [
    {
     "data": {
      "text/plain": [
       "['anagrams',\n",
       " 'anscombe',\n",
       " 'attention',\n",
       " 'brain_networks',\n",
       " 'car_crashes',\n",
       " 'diamonds',\n",
       " 'dots',\n",
       " 'exercise',\n",
       " 'flights',\n",
       " 'fmri',\n",
       " 'gammas',\n",
       " 'geyser',\n",
       " 'iris',\n",
       " 'mpg',\n",
       " 'penguins',\n",
       " 'planets',\n",
       " 'taxis',\n",
       " 'tips',\n",
       " 'titanic']"
      ]
     },
     "execution_count": 2,
     "metadata": {},
     "output_type": "execute_result"
    }
   ],
   "source": [
    "sns.get_dataset_names()"
   ]
  },
  {
   "cell_type": "markdown",
   "id": "471c178c",
   "metadata": {},
   "source": [
    "### We will be using the Titanic dataset for this tutorial."
   ]
  },
  {
   "cell_type": "code",
   "execution_count": 3,
   "id": "a11a1b1c",
   "metadata": {},
   "outputs": [
    {
     "data": {
      "text/html": [
       "<div>\n",
       "<style scoped>\n",
       "    .dataframe tbody tr th:only-of-type {\n",
       "        vertical-align: middle;\n",
       "    }\n",
       "\n",
       "    .dataframe tbody tr th {\n",
       "        vertical-align: top;\n",
       "    }\n",
       "\n",
       "    .dataframe thead th {\n",
       "        text-align: right;\n",
       "    }\n",
       "</style>\n",
       "<table border=\"1\" class=\"dataframe\">\n",
       "  <thead>\n",
       "    <tr style=\"text-align: right;\">\n",
       "      <th></th>\n",
       "      <th>survived</th>\n",
       "      <th>pclass</th>\n",
       "      <th>sex</th>\n",
       "      <th>age</th>\n",
       "      <th>sibsp</th>\n",
       "      <th>parch</th>\n",
       "      <th>fare</th>\n",
       "      <th>embarked</th>\n",
       "      <th>class</th>\n",
       "      <th>who</th>\n",
       "      <th>adult_male</th>\n",
       "      <th>deck</th>\n",
       "      <th>embark_town</th>\n",
       "      <th>alive</th>\n",
       "      <th>alone</th>\n",
       "    </tr>\n",
       "  </thead>\n",
       "  <tbody>\n",
       "    <tr>\n",
       "      <th>0</th>\n",
       "      <td>0</td>\n",
       "      <td>3</td>\n",
       "      <td>male</td>\n",
       "      <td>22.0</td>\n",
       "      <td>1</td>\n",
       "      <td>0</td>\n",
       "      <td>7.2500</td>\n",
       "      <td>S</td>\n",
       "      <td>Third</td>\n",
       "      <td>man</td>\n",
       "      <td>True</td>\n",
       "      <td>NaN</td>\n",
       "      <td>Southampton</td>\n",
       "      <td>no</td>\n",
       "      <td>False</td>\n",
       "    </tr>\n",
       "    <tr>\n",
       "      <th>1</th>\n",
       "      <td>1</td>\n",
       "      <td>1</td>\n",
       "      <td>female</td>\n",
       "      <td>38.0</td>\n",
       "      <td>1</td>\n",
       "      <td>0</td>\n",
       "      <td>71.2833</td>\n",
       "      <td>C</td>\n",
       "      <td>First</td>\n",
       "      <td>woman</td>\n",
       "      <td>False</td>\n",
       "      <td>C</td>\n",
       "      <td>Cherbourg</td>\n",
       "      <td>yes</td>\n",
       "      <td>False</td>\n",
       "    </tr>\n",
       "    <tr>\n",
       "      <th>2</th>\n",
       "      <td>1</td>\n",
       "      <td>3</td>\n",
       "      <td>female</td>\n",
       "      <td>26.0</td>\n",
       "      <td>0</td>\n",
       "      <td>0</td>\n",
       "      <td>7.9250</td>\n",
       "      <td>S</td>\n",
       "      <td>Third</td>\n",
       "      <td>woman</td>\n",
       "      <td>False</td>\n",
       "      <td>NaN</td>\n",
       "      <td>Southampton</td>\n",
       "      <td>yes</td>\n",
       "      <td>True</td>\n",
       "    </tr>\n",
       "    <tr>\n",
       "      <th>3</th>\n",
       "      <td>1</td>\n",
       "      <td>1</td>\n",
       "      <td>female</td>\n",
       "      <td>35.0</td>\n",
       "      <td>1</td>\n",
       "      <td>0</td>\n",
       "      <td>53.1000</td>\n",
       "      <td>S</td>\n",
       "      <td>First</td>\n",
       "      <td>woman</td>\n",
       "      <td>False</td>\n",
       "      <td>C</td>\n",
       "      <td>Southampton</td>\n",
       "      <td>yes</td>\n",
       "      <td>False</td>\n",
       "    </tr>\n",
       "    <tr>\n",
       "      <th>4</th>\n",
       "      <td>0</td>\n",
       "      <td>3</td>\n",
       "      <td>male</td>\n",
       "      <td>35.0</td>\n",
       "      <td>0</td>\n",
       "      <td>0</td>\n",
       "      <td>8.0500</td>\n",
       "      <td>S</td>\n",
       "      <td>Third</td>\n",
       "      <td>man</td>\n",
       "      <td>True</td>\n",
       "      <td>NaN</td>\n",
       "      <td>Southampton</td>\n",
       "      <td>no</td>\n",
       "      <td>True</td>\n",
       "    </tr>\n",
       "  </tbody>\n",
       "</table>\n",
       "</div>"
      ],
      "text/plain": [
       "   survived  pclass     sex   age  sibsp  parch     fare embarked  class  \\\n",
       "0         0       3    male  22.0      1      0   7.2500        S  Third   \n",
       "1         1       1  female  38.0      1      0  71.2833        C  First   \n",
       "2         1       3  female  26.0      0      0   7.9250        S  Third   \n",
       "3         1       1  female  35.0      1      0  53.1000        S  First   \n",
       "4         0       3    male  35.0      0      0   8.0500        S  Third   \n",
       "\n",
       "     who  adult_male deck  embark_town alive  alone  \n",
       "0    man        True  NaN  Southampton    no  False  \n",
       "1  woman       False    C    Cherbourg   yes  False  \n",
       "2  woman       False  NaN  Southampton   yes   True  \n",
       "3  woman       False    C  Southampton   yes  False  \n",
       "4    man        True  NaN  Southampton    no   True  "
      ]
     },
     "execution_count": 3,
     "metadata": {},
     "output_type": "execute_result"
    }
   ],
   "source": [
    "df = sns.load_dataset('titanic')\n",
    "df.head()"
   ]
  },
  {
   "cell_type": "markdown",
   "id": "93147033",
   "metadata": {},
   "source": [
    "## Different types of graphs"
   ]
  },
  {
   "cell_type": "markdown",
   "id": "c8499b6d",
   "metadata": {},
   "source": [
    "### 1.Count plot\n",
    "A count plot is helpful when dealing with categorical values. It is used to plot the frequency of the different categories. The column sex contains categorical data in the titanic data, i.e., male and female.\n",
    "\n",
    "### <font color=darkred>**syntax:sns.countplot(x='name of categorical data column',data=dataframe)**"
   ]
  },
  {
   "cell_type": "code",
   "execution_count": 27,
   "id": "d492f398",
   "metadata": {},
   "outputs": [
    {
     "data": {
      "text/plain": [
       "<AxesSubplot:xlabel='sex', ylabel='count'>"
      ]
     },
     "execution_count": 27,
     "metadata": {},
     "output_type": "execute_result"
    },
    {
     "data": {
      "image/png": "[encoded data removed]",
      "text/plain": [
       "<Figure size 432x288 with 1 Axes>"
      ]
     },
     "metadata": {
      "needs_background": "light"
     },
     "output_type": "display_data"
    }
   ],
   "source": [
    "sns.countplot(x = 'sex', data = df)"
   ]
  },
  {
   "cell_type": "markdown",
   "id": "f5b5f07e",
   "metadata": {},
   "source": [
    "##### Summary:\n",
    "    1.data - The dataframe.\n",
    "\n",
    "    2.x - The name of the column.\n",
    "\n",
    "We can observe from the graph that the number of male passengers is significantly higher than the number of female passengers."
   ]
  },
  {
   "cell_type": "markdown",
   "id": "c3c1dde6",
   "metadata": {},
   "source": [
    "#### We can further break up the bars in the count plot based on another categorical variable. The color palette of the plot can also be customized."
   ]
  },
  {
   "cell_type": "code",
   "execution_count": null,
   "id": "efe8ab66",
   "metadata": {},
   "outputs": [],
   "source": [
    "# Plot countplot of Two categorical column data."
   ]
  },
  {
   "cell_type": "code",
   "execution_count": 25,
   "id": "c8477d17",
   "metadata": {},
   "outputs": [
    {
     "data": {
      "text/plain": [
       "<AxesSubplot:xlabel='sex', ylabel='count'>"
      ]
     },
     "execution_count": 25,
     "metadata": {},
     "output_type": "execute_result"
    },
    {
     "data": {
      "image/png": "[encoded data removed]",
      "text/plain": [
       "<Figure size 432x288 with 1 Axes>"
      ]
     },
     "metadata": {
      "needs_background": "light"
     },
     "output_type": "display_data"
    }
   ],
   "source": [
    "sns.countplot(x = 'sex', hue = 'survived',data = df, palette  = 'Set1')"
   ]
  },
  {
   "cell_type": "markdown",
   "id": "a15bf047",
   "metadata": {},
   "source": [
    "#### **hue** - The name of the categorical column to split the bars.\n",
    "\n",
    "#### **palette** - The color palette to be used. For a list of color palettes."
   ]
  },
  {
   "cell_type": "markdown",
   "id": "5f079bac",
   "metadata": {},
   "source": [
    "## 2.KDE Plot\n",
    "A Kernel Density Estimate (KDE) Plot is used to plot the distribution of continuous data."
   ]
  },
  {
   "cell_type": "markdown",
   "id": "9b7c7745",
   "metadata": {},
   "source": [
    "### <font color=darkred>**sns.kdeplot(x = 'name of int/float value column' , data = df , color = 'black')**"
   ]
  },
  {
   "cell_type": "code",
   "execution_count": 29,
   "id": "3ef8b4b3",
   "metadata": {},
   "outputs": [
    {
     "data": {
      "text/plain": [
       "<AxesSubplot:xlabel='age', ylabel='Density'>"
      ]
     },
     "execution_count": 29,
     "metadata": {},
     "output_type": "execute_result"
    },
    {
     "data": {
      "image/png": "[encoded data removed]",
      "text/plain": [
       "<Figure size 432x288 with 1 Axes>"
      ]
     },
     "metadata": {
      "needs_background": "light"
     },
     "output_type": "display_data"
    }
   ],
   "source": [
    "sns.kdeplot(x='age', data = df, color = 'black')"
   ]
  },
  {
   "cell_type": "markdown",
   "id": "a804de9e",
   "metadata": {},
   "source": [
    "#### data - The dataframe.\n",
    "\n",
    "#### x - The name of the column.\n",
    "\n",
    "#### color - The color of the graph. You can find a list of colors here.\n",
    "\n",
    "#### The peak of the above graph is in between 20 and 40 so we can conclude that most passengers were between the ages of 20 and 40."
   ]
  },
  {
   "cell_type": "markdown",
   "id": "a978ed89",
   "metadata": {},
   "source": [
    "## 3.Distribution plot\n",
    "A Distribution plot is similar to a KDE plot. It is used to plot the distribution of continuous data."
   ]
  },
  {
   "cell_type": "markdown",
   "id": "7f76ae98",
   "metadata": {},
   "source": [
    "### <font color=darkred>**syntax: sns.displot(x = 'name of column it contains range of data',kde=True,bins = 5 , data =dataframe)**"
   ]
  },
  {
   "cell_type": "code",
   "execution_count": 30,
   "id": "8d540b6a",
   "metadata": {},
   "outputs": [
    {
     "data": {
      "text/plain": [
       "<seaborn.axisgrid.FacetGrid at 0x158feafa610>"
      ]
     },
     "execution_count": 30,
     "metadata": {},
     "output_type": "execute_result"
    },
    {
     "data": {
      "image/png": "[encoded data removed]",
      "text/plain": [
       "<Figure size 360x360 with 1 Axes>"
      ]
     },
     "metadata": {
      "needs_background": "light"
     },
     "output_type": "display_data"
    }
   ],
   "source": [
    "sns.displot(x='age',kde = True, bins = 5, data = df)"
   ]
  },
  {
   "cell_type": "markdown",
   "id": "aa6fcace",
   "metadata": {},
   "source": [
    "#### kde - It is set to False by default. However, if you wish to plot a KDE graph on top of the bars, you can set it to True.\n",
    "\n",
    "#### bins - The number of bins/bars. The lower the number, wider the bars and wider the intervals.\n",
    "\n",
    "#### The plot above tells us that most people onboard the titanic were in their mid-twenties."
   ]
  },
  {
   "cell_type": "code",
   "execution_count": null,
   "id": "81c42f3a",
   "metadata": {},
   "outputs": [],
   "source": [
    "# Plot countplot of Two range wise column data."
   ]
  },
  {
   "cell_type": "code",
   "execution_count": 32,
   "id": "45ccbc3d",
   "metadata": {},
   "outputs": [
    {
     "data": {
      "text/plain": [
       "<seaborn.axisgrid.FacetGrid at 0x158fe9d0b50>"
      ]
     },
     "execution_count": 32,
     "metadata": {},
     "output_type": "execute_result"
    },
    {
     "data": {
      "image/png": "[encoded data removed]",
      "text/plain": [
       "<Figure size 410.875x360 with 1 Axes>"
      ]
     },
     "metadata": {
      "needs_background": "light"
     },
     "output_type": "display_data"
    }
   ],
   "source": [
    "sns.displot(x ='age',kde=True,bins = 5 ,\n",
    "hue = df['survived'] , palette = 'Set2', data=df)"
   ]
  },
  {
   "cell_type": "markdown",
   "id": "8e9d43fc",
   "metadata": {},
   "source": [
    "## 4.Scatter plot\n",
    "For this plot and the plots below, we will be working with the iris dataset. The iris dataset contains data related to flower’s petal size (petal length and petal width) and sepal size (sepal length and sepal width).\n",
    "\n",
    "These features are used to classify the type of iris (Setosa, Versicolour, and Virginica). Below we will try to investigate the relation between the features.\n",
    "\n",
    "First, we will need to load the iris dataset."
   ]
  },
  {
   "cell_type": "markdown",
   "id": "9987e946",
   "metadata": {},
   "source": [
    "### <font color=darkred>**syntax :sns.scatterplot(x='name of int/float data column', y ='name of int/float data column' ,\n",
    "### <font color=darkred>data = dataframe , hue = 'name of categorical data')**"
   ]
  },
  {
   "cell_type": "code",
   "execution_count": 33,
   "id": "84985a00",
   "metadata": {},
   "outputs": [],
   "source": [
    "df1 = sns.load_dataset('iris')"
   ]
  },
  {
   "cell_type": "code",
   "execution_count": 34,
   "id": "e8476ea6",
   "metadata": {},
   "outputs": [
    {
     "data": {
      "text/html": [
       "<div>\n",
       "<style scoped>\n",
       "    .dataframe tbody tr th:only-of-type {\n",
       "        vertical-align: middle;\n",
       "    }\n",
       "\n",
       "    .dataframe tbody tr th {\n",
       "        vertical-align: top;\n",
       "    }\n",
       "\n",
       "    .dataframe thead th {\n",
       "        text-align: right;\n",
       "    }\n",
       "</style>\n",
       "<table border=\"1\" class=\"dataframe\">\n",
       "  <thead>\n",
       "    <tr style=\"text-align: right;\">\n",
       "      <th></th>\n",
       "      <th>sepal_length</th>\n",
       "      <th>sepal_width</th>\n",
       "      <th>petal_length</th>\n",
       "      <th>petal_width</th>\n",
       "      <th>species</th>\n",
       "    </tr>\n",
       "  </thead>\n",
       "  <tbody>\n",
       "    <tr>\n",
       "      <th>0</th>\n",
       "      <td>5.1</td>\n",
       "      <td>3.5</td>\n",
       "      <td>1.4</td>\n",
       "      <td>0.2</td>\n",
       "      <td>setosa</td>\n",
       "    </tr>\n",
       "    <tr>\n",
       "      <th>1</th>\n",
       "      <td>4.9</td>\n",
       "      <td>3.0</td>\n",
       "      <td>1.4</td>\n",
       "      <td>0.2</td>\n",
       "      <td>setosa</td>\n",
       "    </tr>\n",
       "    <tr>\n",
       "      <th>2</th>\n",
       "      <td>4.7</td>\n",
       "      <td>3.2</td>\n",
       "      <td>1.3</td>\n",
       "      <td>0.2</td>\n",
       "      <td>setosa</td>\n",
       "    </tr>\n",
       "    <tr>\n",
       "      <th>3</th>\n",
       "      <td>4.6</td>\n",
       "      <td>3.1</td>\n",
       "      <td>1.5</td>\n",
       "      <td>0.2</td>\n",
       "      <td>setosa</td>\n",
       "    </tr>\n",
       "    <tr>\n",
       "      <th>4</th>\n",
       "      <td>5.0</td>\n",
       "      <td>3.6</td>\n",
       "      <td>1.4</td>\n",
       "      <td>0.2</td>\n",
       "      <td>setosa</td>\n",
       "    </tr>\n",
       "    <tr>\n",
       "      <th>...</th>\n",
       "      <td>...</td>\n",
       "      <td>...</td>\n",
       "      <td>...</td>\n",
       "      <td>...</td>\n",
       "      <td>...</td>\n",
       "    </tr>\n",
       "    <tr>\n",
       "      <th>145</th>\n",
       "      <td>6.7</td>\n",
       "      <td>3.0</td>\n",
       "      <td>5.2</td>\n",
       "      <td>2.3</td>\n",
       "      <td>virginica</td>\n",
       "    </tr>\n",
       "    <tr>\n",
       "      <th>146</th>\n",
       "      <td>6.3</td>\n",
       "      <td>2.5</td>\n",
       "      <td>5.0</td>\n",
       "      <td>1.9</td>\n",
       "      <td>virginica</td>\n",
       "    </tr>\n",
       "    <tr>\n",
       "      <th>147</th>\n",
       "      <td>6.5</td>\n",
       "      <td>3.0</td>\n",
       "      <td>5.2</td>\n",
       "      <td>2.0</td>\n",
       "      <td>virginica</td>\n",
       "    </tr>\n",
       "    <tr>\n",
       "      <th>148</th>\n",
       "      <td>6.2</td>\n",
       "      <td>3.4</td>\n",
       "      <td>5.4</td>\n",
       "      <td>2.3</td>\n",
       "      <td>virginica</td>\n",
       "    </tr>\n",
       "    <tr>\n",
       "      <th>149</th>\n",
       "      <td>5.9</td>\n",
       "      <td>3.0</td>\n",
       "      <td>5.1</td>\n",
       "      <td>1.8</td>\n",
       "      <td>virginica</td>\n",
       "    </tr>\n",
       "  </tbody>\n",
       "</table>\n",
       "<p>150 rows × 5 columns</p>\n",
       "</div>"
      ],
      "text/plain": [
       "     sepal_length  sepal_width  petal_length  petal_width    species\n",
       "0             5.1          3.5           1.4          0.2     setosa\n",
       "1             4.9          3.0           1.4          0.2     setosa\n",
       "2             4.7          3.2           1.3          0.2     setosa\n",
       "3             4.6          3.1           1.5          0.2     setosa\n",
       "4             5.0          3.6           1.4          0.2     setosa\n",
       "..            ...          ...           ...          ...        ...\n",
       "145           6.7          3.0           5.2          2.3  virginica\n",
       "146           6.3          2.5           5.0          1.9  virginica\n",
       "147           6.5          3.0           5.2          2.0  virginica\n",
       "148           6.2          3.4           5.4          2.3  virginica\n",
       "149           5.9          3.0           5.1          1.8  virginica\n",
       "\n",
       "[150 rows x 5 columns]"
      ]
     },
     "execution_count": 34,
     "metadata": {},
     "output_type": "execute_result"
    }
   ],
   "source": [
    "df1"
   ]
  },
  {
   "cell_type": "markdown",
   "id": "ccf605d3",
   "metadata": {},
   "source": [
    "#### Scatter plots help understand co-relation between data"
   ]
  },
  {
   "cell_type": "code",
   "execution_count": 36,
   "id": "d456a315",
   "metadata": {},
   "outputs": [
    {
     "data": {
      "text/plain": [
       "<AxesSubplot:xlabel='sepal_length', ylabel='petal_length'>"
      ]
     },
     "execution_count": 36,
     "metadata": {},
     "output_type": "execute_result"
    },
    {
     "data": {
      "image/png": "[encoded data removed]",
      "text/plain": [
       "<Figure size 432x288 with 1 Axes>"
      ]
     },
     "metadata": {
      "needs_background": "light"
     },
     "output_type": "display_data"
    }
   ],
   "source": [
    "sns.scatterplot(x='sepal_length', y ='petal_length' ,\n",
    "data = df1 , hue = 'species')"
   ]
  },
  {
   "cell_type": "markdown",
   "id": "64bb129a",
   "metadata": {},
   "source": [
    "## 5.Joint plot\n",
    "A Joint Plot is also used to plot the correlation between data."
   ]
  },
  {
   "cell_type": "markdown",
   "id": "497b6d06",
   "metadata": {},
   "source": [
    "### <font color=darkred>**syntax :sns.jointplot(x='name of int/float data column' , y ='name of int/float data column',**\n",
    "### <font color=darkred>**data = dataframe , kind = 'reg')**"
   ]
  },
  {
   "cell_type": "code",
   "execution_count": 38,
   "id": "f5491a3a",
   "metadata": {},
   "outputs": [
    {
     "data": {
      "text/plain": [
       "<seaborn.axisgrid.JointGrid at 0x158fed608b0>"
      ]
     },
     "execution_count": 38,
     "metadata": {},
     "output_type": "execute_result"
    },
    {
     "data": {
      "image/png": "[encoded data removed]",
      "text/plain": [
       "<Figure size 432x432 with 3 Axes>"
      ]
     },
     "metadata": {
      "needs_background": "light"
     },
     "output_type": "display_data"
    }
   ],
   "source": [
    "sns.jointplot(x='sepal_length' , y ='petal_length',\n",
    "data = df1 , kind = 'reg')"
   ]
  },
  {
   "cell_type": "markdown",
   "id": "e45d5369",
   "metadata": {},
   "source": [
    "#### kind - The kind of plot to be plotted. It can be one of the following.\n",
    "    'scatter', 'hist', 'hex', 'kde', 'reg', 'resid'"
   ]
  },
  {
   "cell_type": "markdown",
   "id": "e84700ec",
   "metadata": {},
   "source": [
    "## 6.Pair plots\n",
    "Seaborn lets us plot multiple scatter plots. It’s a good option when you want to get a quick overview of your data."
   ]
  },
  {
   "cell_type": "markdown",
   "id": "3fcb09e6",
   "metadata": {},
   "source": [
    "### <font color=darkred>**syntax:sns.pairplot(dataframe)**"
   ]
  },
  {
   "cell_type": "code",
   "execution_count": 39,
   "id": "97a48f4a",
   "metadata": {},
   "outputs": [
    {
     "data": {
      "text/plain": [
       "<seaborn.axisgrid.PairGrid at 0x158fff6c220>"
      ]
     },
     "execution_count": 39,
     "metadata": {},
     "output_type": "execute_result"
    },
    {
     "data": {
      "image/png": "[encoded data removed]",
      "text/plain": [
       "<Figure size 720x720 with 20 Axes>"
      ]
     },
     "metadata": {
      "needs_background": "light"
     },
     "output_type": "display_data"
    }
   ],
   "source": [
    "sns.pairplot(df1)"
   ]
  },
  {
   "cell_type": "markdown",
   "id": "3911e6be",
   "metadata": {},
   "source": [
    "#### It pairs all the continuous data and plots their correlation. It also plots the distribution of the data.\n",
    "\n",
    "#### If you do not wish to pair all the columns, you can pass in two more parameters x_vars and y_vars."
   ]
  },
  {
   "cell_type": "markdown",
   "id": "0336b71f",
   "metadata": {},
   "source": [
    "## 7.Heatmaps\n",
    "A heat map can be used to visualize confusion, matrices, and correlation."
   ]
  },
  {
   "cell_type": "markdown",
   "id": "9abe6195",
   "metadata": {},
   "source": [
    "### <font color=darkred>**syntax:\n",
    "    1.corr = df.corr()\n",
    "    2.sns.heatmap(corr)"
   ]
  },
  {
   "cell_type": "code",
   "execution_count": 40,
   "id": "967c6ccf",
   "metadata": {},
   "outputs": [],
   "source": [
    "corr = df1.corr()"
   ]
  },
  {
   "cell_type": "code",
   "execution_count": 41,
   "id": "16d76be0",
   "metadata": {},
   "outputs": [
    {
     "data": {
      "text/plain": [
       "<AxesSubplot:>"
      ]
     },
     "execution_count": 41,
     "metadata": {},
     "output_type": "execute_result"
    },
    {
     "data": {
      "image/png": "[encoded data removed]",
      "text/plain": [
       "<Figure size 432x288 with 2 Axes>"
      ]
     },
     "metadata": {
      "needs_background": "light"
     },
     "output_type": "display_data"
    }
   ],
   "source": [
    "sns.heatmap(corr)"
   ]
  },
  {
   "cell_type": "markdown",
   "id": "36a0909f",
   "metadata": {},
   "source": [
    "#### We can customize the color scheme, the minimum/maximum values, and annotations.\n",
    "\n",
    "Based on the heatmap we can conclude that sepal length has a high positive correlation with petal length and petal width while sepal width has negative correlation with petal length and petal width."
   ]
  },
  {
   "cell_type": "code",
   "execution_count": 44,
   "id": "d424f82c",
   "metadata": {},
   "outputs": [
    {
     "data": {
      "text/plain": [
       "<AxesSubplot:>"
      ]
     },
     "execution_count": 44,
     "metadata": {},
     "output_type": "execute_result"
    },
    {
     "data": {
      "image/png": "[encoded data removed]",
      "text/plain": [
       "<Figure size 432x288 with 2 Axes>"
      ]
     },
     "metadata": {
      "needs_background": "light"
     },
     "output_type": "display_data"
    }
   ],
   "source": [
    "sns.heatmap(corr,color=['red','blue','green'],vmin = -0.5, vmax = 0.6, annot = True)"
   ]
  },
  {
   "cell_type": "code",
   "execution_count": null,
   "id": "ef646378",
   "metadata": {},
   "outputs": [],
   "source": []
  },
  {
   "cell_type": "code",
   "execution_count": null,
   "id": "dd262c63",
   "metadata": {},
   "outputs": [],
   "source": []
  },
  {
   "cell_type": "code",
   "execution_count": null,
   "id": "7931d986",
   "metadata": {},
   "outputs": [],
   "source": []
  },
  {
   "cell_type": "code",
   "execution_count": 3,
   "id": "e0f82991",
   "metadata": {},
   "outputs": [],
   "source": [
    "import pandas as pd\n",
    "data = pd.read_csv('covid.csv')"
   ]
  },
  {
   "cell_type": "code",
   "execution_count": 4,
   "id": "63f29b1b",
   "metadata": {},
   "outputs": [
    {
     "data": {
      "text/html": [
       "<div>\n",
       "<style scoped>\n",
       "    .dataframe tbody tr th:only-of-type {\n",
       "        vertical-align: middle;\n",
       "    }\n",
       "\n",
       "    .dataframe tbody tr th {\n",
       "        vertical-align: top;\n",
       "    }\n",
       "\n",
       "    .dataframe thead th {\n",
       "        text-align: right;\n",
       "    }\n",
       "</style>\n",
       "<table border=\"1\" class=\"dataframe\">\n",
       "  <thead>\n",
       "    <tr style=\"text-align: right;\">\n",
       "      <th></th>\n",
       "      <th>iso_code</th>\n",
       "      <th>continent</th>\n",
       "      <th>location</th>\n",
       "      <th>last_updated_date</th>\n",
       "      <th>total_cases</th>\n",
       "      <th>new_cases</th>\n",
       "      <th>new_cases_smoothed</th>\n",
       "      <th>total_deaths</th>\n",
       "      <th>new_deaths</th>\n",
       "      <th>new_deaths_smoothed</th>\n",
       "      <th>...</th>\n",
       "      <th>female_smokers</th>\n",
       "      <th>male_smokers</th>\n",
       "      <th>handwashing_facilities</th>\n",
       "      <th>hospital_beds_per_thousand</th>\n",
       "      <th>life_expectancy</th>\n",
       "      <th>human_development_index</th>\n",
       "      <th>excess_mortality_cumulative_absolute</th>\n",
       "      <th>excess_mortality_cumulative</th>\n",
       "      <th>excess_mortality</th>\n",
       "      <th>excess_mortality_cumulative_per_million</th>\n",
       "    </tr>\n",
       "  </thead>\n",
       "  <tbody>\n",
       "    <tr>\n",
       "      <th>0</th>\n",
       "      <td>AFG</td>\n",
       "      <td>Asia</td>\n",
       "      <td>Afghanistan</td>\n",
       "      <td>2021-10-19</td>\n",
       "      <td>155801.0</td>\n",
       "      <td>25.0</td>\n",
       "      <td>28.857</td>\n",
       "      <td>7247.0</td>\n",
       "      <td>1.0</td>\n",
       "      <td>2.429</td>\n",
       "      <td>...</td>\n",
       "      <td>NaN</td>\n",
       "      <td>NaN</td>\n",
       "      <td>37.746</td>\n",
       "      <td>0.500</td>\n",
       "      <td>64.83</td>\n",
       "      <td>0.511</td>\n",
       "      <td>NaN</td>\n",
       "      <td>NaN</td>\n",
       "      <td>NaN</td>\n",
       "      <td>NaN</td>\n",
       "    </tr>\n",
       "    <tr>\n",
       "      <th>1</th>\n",
       "      <td>OWID_AFR</td>\n",
       "      <td>NaN</td>\n",
       "      <td>Africa</td>\n",
       "      <td>2021-10-19</td>\n",
       "      <td>8444411.0</td>\n",
       "      <td>6054.0</td>\n",
       "      <td>6225.429</td>\n",
       "      <td>215909.0</td>\n",
       "      <td>240.0</td>\n",
       "      <td>215.286</td>\n",
       "      <td>...</td>\n",
       "      <td>NaN</td>\n",
       "      <td>NaN</td>\n",
       "      <td>NaN</td>\n",
       "      <td>NaN</td>\n",
       "      <td>NaN</td>\n",
       "      <td>NaN</td>\n",
       "      <td>NaN</td>\n",
       "      <td>NaN</td>\n",
       "      <td>NaN</td>\n",
       "      <td>NaN</td>\n",
       "    </tr>\n",
       "    <tr>\n",
       "      <th>2</th>\n",
       "      <td>ALB</td>\n",
       "      <td>Europe</td>\n",
       "      <td>Albania</td>\n",
       "      <td>2021-10-19</td>\n",
       "      <td>178804.0</td>\n",
       "      <td>616.0</td>\n",
       "      <td>448.571</td>\n",
       "      <td>2841.0</td>\n",
       "      <td>12.0</td>\n",
       "      <td>8.286</td>\n",
       "      <td>...</td>\n",
       "      <td>7.100</td>\n",
       "      <td>51.200</td>\n",
       "      <td>NaN</td>\n",
       "      <td>2.890</td>\n",
       "      <td>78.57</td>\n",
       "      <td>0.795</td>\n",
       "      <td>NaN</td>\n",
       "      <td>NaN</td>\n",
       "      <td>NaN</td>\n",
       "      <td>NaN</td>\n",
       "    </tr>\n",
       "    <tr>\n",
       "      <th>3</th>\n",
       "      <td>DZA</td>\n",
       "      <td>Africa</td>\n",
       "      <td>Algeria</td>\n",
       "      <td>2021-10-19</td>\n",
       "      <td>205453.0</td>\n",
       "      <td>89.0</td>\n",
       "      <td>94.714</td>\n",
       "      <td>5875.0</td>\n",
       "      <td>2.0</td>\n",
       "      <td>2.286</td>\n",
       "      <td>...</td>\n",
       "      <td>0.700</td>\n",
       "      <td>30.400</td>\n",
       "      <td>83.741</td>\n",
       "      <td>1.900</td>\n",
       "      <td>76.88</td>\n",
       "      <td>0.748</td>\n",
       "      <td>NaN</td>\n",
       "      <td>NaN</td>\n",
       "      <td>NaN</td>\n",
       "      <td>NaN</td>\n",
       "    </tr>\n",
       "    <tr>\n",
       "      <th>4</th>\n",
       "      <td>AND</td>\n",
       "      <td>Europe</td>\n",
       "      <td>Andorra</td>\n",
       "      <td>2021-10-19</td>\n",
       "      <td>15369.0</td>\n",
       "      <td>2.0</td>\n",
       "      <td>8.857</td>\n",
       "      <td>130.0</td>\n",
       "      <td>0.0</td>\n",
       "      <td>0.000</td>\n",
       "      <td>...</td>\n",
       "      <td>29.000</td>\n",
       "      <td>37.800</td>\n",
       "      <td>NaN</td>\n",
       "      <td>NaN</td>\n",
       "      <td>83.73</td>\n",
       "      <td>0.868</td>\n",
       "      <td>NaN</td>\n",
       "      <td>NaN</td>\n",
       "      <td>NaN</td>\n",
       "      <td>NaN</td>\n",
       "    </tr>\n",
       "    <tr>\n",
       "      <th>...</th>\n",
       "      <td>...</td>\n",
       "      <td>...</td>\n",
       "      <td>...</td>\n",
       "      <td>...</td>\n",
       "      <td>...</td>\n",
       "      <td>...</td>\n",
       "      <td>...</td>\n",
       "      <td>...</td>\n",
       "      <td>...</td>\n",
       "      <td>...</td>\n",
       "      <td>...</td>\n",
       "      <td>...</td>\n",
       "      <td>...</td>\n",
       "      <td>...</td>\n",
       "      <td>...</td>\n",
       "      <td>...</td>\n",
       "      <td>...</td>\n",
       "      <td>...</td>\n",
       "      <td>...</td>\n",
       "      <td>...</td>\n",
       "      <td>...</td>\n",
       "    </tr>\n",
       "    <tr>\n",
       "      <th>219</th>\n",
       "      <td>WLF</td>\n",
       "      <td>Oceania</td>\n",
       "      <td>Wallis and Futuna</td>\n",
       "      <td>2021-10-18</td>\n",
       "      <td>NaN</td>\n",
       "      <td>NaN</td>\n",
       "      <td>NaN</td>\n",
       "      <td>NaN</td>\n",
       "      <td>NaN</td>\n",
       "      <td>NaN</td>\n",
       "      <td>...</td>\n",
       "      <td>NaN</td>\n",
       "      <td>NaN</td>\n",
       "      <td>NaN</td>\n",
       "      <td>NaN</td>\n",
       "      <td>79.94</td>\n",
       "      <td>NaN</td>\n",
       "      <td>NaN</td>\n",
       "      <td>NaN</td>\n",
       "      <td>NaN</td>\n",
       "      <td>NaN</td>\n",
       "    </tr>\n",
       "    <tr>\n",
       "      <th>220</th>\n",
       "      <td>OWID_WRL</td>\n",
       "      <td>NaN</td>\n",
       "      <td>World</td>\n",
       "      <td>2021-10-19</td>\n",
       "      <td>241568522.0</td>\n",
       "      <td>436256.0</td>\n",
       "      <td>409047.000</td>\n",
       "      <td>4913106.0</td>\n",
       "      <td>8012.0</td>\n",
       "      <td>6784.429</td>\n",
       "      <td>...</td>\n",
       "      <td>6.434</td>\n",
       "      <td>34.635</td>\n",
       "      <td>60.130</td>\n",
       "      <td>2.705</td>\n",
       "      <td>72.58</td>\n",
       "      <td>0.737</td>\n",
       "      <td>NaN</td>\n",
       "      <td>NaN</td>\n",
       "      <td>NaN</td>\n",
       "      <td>NaN</td>\n",
       "    </tr>\n",
       "    <tr>\n",
       "      <th>221</th>\n",
       "      <td>YEM</td>\n",
       "      <td>Asia</td>\n",
       "      <td>Yemen</td>\n",
       "      <td>2021-10-19</td>\n",
       "      <td>9575.0</td>\n",
       "      <td>19.0</td>\n",
       "      <td>23.286</td>\n",
       "      <td>1813.0</td>\n",
       "      <td>6.0</td>\n",
       "      <td>3.714</td>\n",
       "      <td>...</td>\n",
       "      <td>7.600</td>\n",
       "      <td>29.200</td>\n",
       "      <td>49.542</td>\n",
       "      <td>0.700</td>\n",
       "      <td>66.12</td>\n",
       "      <td>0.470</td>\n",
       "      <td>NaN</td>\n",
       "      <td>NaN</td>\n",
       "      <td>NaN</td>\n",
       "      <td>NaN</td>\n",
       "    </tr>\n",
       "    <tr>\n",
       "      <th>222</th>\n",
       "      <td>ZMB</td>\n",
       "      <td>Africa</td>\n",
       "      <td>Zambia</td>\n",
       "      <td>2021-10-19</td>\n",
       "      <td>209549.0</td>\n",
       "      <td>13.0</td>\n",
       "      <td>21.857</td>\n",
       "      <td>3658.0</td>\n",
       "      <td>0.0</td>\n",
       "      <td>0.571</td>\n",
       "      <td>...</td>\n",
       "      <td>3.100</td>\n",
       "      <td>24.700</td>\n",
       "      <td>13.938</td>\n",
       "      <td>2.000</td>\n",
       "      <td>63.89</td>\n",
       "      <td>0.584</td>\n",
       "      <td>NaN</td>\n",
       "      <td>NaN</td>\n",
       "      <td>NaN</td>\n",
       "      <td>NaN</td>\n",
       "    </tr>\n",
       "    <tr>\n",
       "      <th>223</th>\n",
       "      <td>ZWE</td>\n",
       "      <td>Africa</td>\n",
       "      <td>Zimbabwe</td>\n",
       "      <td>2021-10-19</td>\n",
       "      <td>132405.0</td>\n",
       "      <td>37.0</td>\n",
       "      <td>55.571</td>\n",
       "      <td>4659.0</td>\n",
       "      <td>1.0</td>\n",
       "      <td>2.000</td>\n",
       "      <td>...</td>\n",
       "      <td>1.600</td>\n",
       "      <td>30.700</td>\n",
       "      <td>36.791</td>\n",
       "      <td>1.700</td>\n",
       "      <td>61.49</td>\n",
       "      <td>0.571</td>\n",
       "      <td>NaN</td>\n",
       "      <td>NaN</td>\n",
       "      <td>NaN</td>\n",
       "      <td>NaN</td>\n",
       "    </tr>\n",
       "  </tbody>\n",
       "</table>\n",
       "<p>224 rows × 65 columns</p>\n",
       "</div>"
      ],
      "text/plain": [
       "     iso_code continent           location last_updated_date  total_cases  \\\n",
       "0         AFG      Asia        Afghanistan        2021-10-19     155801.0   \n",
       "1    OWID_AFR       NaN             Africa        2021-10-19    8444411.0   \n",
       "2         ALB    Europe            Albania        2021-10-19     178804.0   \n",
       "3         DZA    Africa            Algeria        2021-10-19     205453.0   \n",
       "4         AND    Europe            Andorra        2021-10-19      15369.0   \n",
       "..        ...       ...                ...               ...          ...   \n",
       "219       WLF   Oceania  Wallis and Futuna        2021-10-18          NaN   \n",
       "220  OWID_WRL       NaN              World        2021-10-19  241568522.0   \n",
       "221       YEM      Asia              Yemen        2021-10-19       9575.0   \n",
       "222       ZMB    Africa             Zambia        2021-10-19     209549.0   \n",
       "223       ZWE    Africa           Zimbabwe        2021-10-19     132405.0   \n",
       "\n",
       "     new_cases  new_cases_smoothed  total_deaths  new_deaths  \\\n",
       "0         25.0              28.857        7247.0         1.0   \n",
       "1       6054.0            6225.429      215909.0       240.0   \n",
       "2        616.0             448.571        2841.0        12.0   \n",
       "3         89.0              94.714        5875.0         2.0   \n",
       "4          2.0               8.857         130.0         0.0   \n",
       "..         ...                 ...           ...         ...   \n",
       "219        NaN                 NaN           NaN         NaN   \n",
       "220   436256.0          409047.000     4913106.0      8012.0   \n",
       "221       19.0              23.286        1813.0         6.0   \n",
       "222       13.0              21.857        3658.0         0.0   \n",
       "223       37.0              55.571        4659.0         1.0   \n",
       "\n",
       "     new_deaths_smoothed  ...  female_smokers  male_smokers  \\\n",
       "0                  2.429  ...             NaN           NaN   \n",
       "1                215.286  ...             NaN           NaN   \n",
       "2                  8.286  ...           7.100        51.200   \n",
       "3                  2.286  ...           0.700        30.400   \n",
       "4                  0.000  ...          29.000        37.800   \n",
       "..                   ...  ...             ...           ...   \n",
       "219                  NaN  ...             NaN           NaN   \n",
       "220             6784.429  ...           6.434        34.635   \n",
       "221                3.714  ...           7.600        29.200   \n",
       "222                0.571  ...           3.100        24.700   \n",
       "223                2.000  ...           1.600        30.700   \n",
       "\n",
       "     handwashing_facilities  hospital_beds_per_thousand  life_expectancy  \\\n",
       "0                    37.746                       0.500            64.83   \n",
       "1                       NaN                         NaN              NaN   \n",
       "2                       NaN                       2.890            78.57   \n",
       "3                    83.741                       1.900            76.88   \n",
       "4                       NaN                         NaN            83.73   \n",
       "..                      ...                         ...              ...   \n",
       "219                     NaN                         NaN            79.94   \n",
       "220                  60.130                       2.705            72.58   \n",
       "221                  49.542                       0.700            66.12   \n",
       "222                  13.938                       2.000            63.89   \n",
       "223                  36.791                       1.700            61.49   \n",
       "\n",
       "     human_development_index  excess_mortality_cumulative_absolute  \\\n",
       "0                      0.511                                   NaN   \n",
       "1                        NaN                                   NaN   \n",
       "2                      0.795                                   NaN   \n",
       "3                      0.748                                   NaN   \n",
       "4                      0.868                                   NaN   \n",
       "..                       ...                                   ...   \n",
       "219                      NaN                                   NaN   \n",
       "220                    0.737                                   NaN   \n",
       "221                    0.470                                   NaN   \n",
       "222                    0.584                                   NaN   \n",
       "223                    0.571                                   NaN   \n",
       "\n",
       "     excess_mortality_cumulative  excess_mortality  \\\n",
       "0                            NaN               NaN   \n",
       "1                            NaN               NaN   \n",
       "2                            NaN               NaN   \n",
       "3                            NaN               NaN   \n",
       "4                            NaN               NaN   \n",
       "..                           ...               ...   \n",
       "219                          NaN               NaN   \n",
       "220                          NaN               NaN   \n",
       "221                          NaN               NaN   \n",
       "222                          NaN               NaN   \n",
       "223                          NaN               NaN   \n",
       "\n",
       "     excess_mortality_cumulative_per_million  \n",
       "0                                        NaN  \n",
       "1                                        NaN  \n",
       "2                                        NaN  \n",
       "3                                        NaN  \n",
       "4                                        NaN  \n",
       "..                                       ...  \n",
       "219                                      NaN  \n",
       "220                                      NaN  \n",
       "221                                      NaN  \n",
       "222                                      NaN  \n",
       "223                                      NaN  \n",
       "\n",
       "[224 rows x 65 columns]"
      ]
     },
     "execution_count": 4,
     "metadata": {},
     "output_type": "execute_result"
    }
   ],
   "source": [
    "data"
   ]
  },
  {
   "cell_type": "markdown",
   "id": "995e58d0",
   "metadata": {},
   "source": [
    "### <font color=darkred>**Scatterplot using Seaborn**"
   ]
  },
  {
   "cell_type": "markdown",
   "id": "9a43a8a4",
   "metadata": {},
   "source": [
    "#### A scatterplot is perhaps the most common example of visualizing relationships between two variables. Each point shows an observation in the dataset and these observations are represented by dot-like structures. The plot shows the joint distribution of two variables using a cloud of points.\n",
    "\n",
    "#### To draw the scatter plot, we’ll be using the relplot() function of the seaborn library. It is a figure-level role for visualizing statistical relationships. By default, using a relplot produces a scatter plot:"
   ]
  },
  {
   "cell_type": "code",
   "execution_count": 5,
   "id": "22d447ee",
   "metadata": {},
   "outputs": [
    {
     "data": {
      "text/html": [
       "<div>\n",
       "<style scoped>\n",
       "    .dataframe tbody tr th:only-of-type {\n",
       "        vertical-align: middle;\n",
       "    }\n",
       "\n",
       "    .dataframe tbody tr th {\n",
       "        vertical-align: top;\n",
       "    }\n",
       "\n",
       "    .dataframe thead th {\n",
       "        text-align: right;\n",
       "    }\n",
       "</style>\n",
       "<table border=\"1\" class=\"dataframe\">\n",
       "  <thead>\n",
       "    <tr style=\"text-align: right;\">\n",
       "      <th></th>\n",
       "      <th>iso_code</th>\n",
       "      <th>continent</th>\n",
       "      <th>location</th>\n",
       "      <th>last_updated_date</th>\n",
       "      <th>total_cases</th>\n",
       "      <th>new_cases</th>\n",
       "      <th>new_cases_smoothed</th>\n",
       "      <th>total_deaths</th>\n",
       "      <th>new_deaths</th>\n",
       "      <th>new_deaths_smoothed</th>\n",
       "      <th>...</th>\n",
       "      <th>female_smokers</th>\n",
       "      <th>male_smokers</th>\n",
       "      <th>handwashing_facilities</th>\n",
       "      <th>hospital_beds_per_thousand</th>\n",
       "      <th>life_expectancy</th>\n",
       "      <th>human_development_index</th>\n",
       "      <th>excess_mortality_cumulative_absolute</th>\n",
       "      <th>excess_mortality_cumulative</th>\n",
       "      <th>excess_mortality</th>\n",
       "      <th>excess_mortality_cumulative_per_million</th>\n",
       "    </tr>\n",
       "  </thead>\n",
       "  <tbody>\n",
       "    <tr>\n",
       "      <th>0</th>\n",
       "      <td>AFG</td>\n",
       "      <td>Asia</td>\n",
       "      <td>Afghanistan</td>\n",
       "      <td>2021-10-19</td>\n",
       "      <td>155801.0</td>\n",
       "      <td>25.0</td>\n",
       "      <td>28.857</td>\n",
       "      <td>7247.0</td>\n",
       "      <td>1.0</td>\n",
       "      <td>2.429</td>\n",
       "      <td>...</td>\n",
       "      <td>NaN</td>\n",
       "      <td>NaN</td>\n",
       "      <td>37.746</td>\n",
       "      <td>0.500</td>\n",
       "      <td>64.83</td>\n",
       "      <td>0.511</td>\n",
       "      <td>NaN</td>\n",
       "      <td>NaN</td>\n",
       "      <td>NaN</td>\n",
       "      <td>NaN</td>\n",
       "    </tr>\n",
       "    <tr>\n",
       "      <th>1</th>\n",
       "      <td>OWID_AFR</td>\n",
       "      <td>NaN</td>\n",
       "      <td>Africa</td>\n",
       "      <td>2021-10-19</td>\n",
       "      <td>8444411.0</td>\n",
       "      <td>6054.0</td>\n",
       "      <td>6225.429</td>\n",
       "      <td>215909.0</td>\n",
       "      <td>240.0</td>\n",
       "      <td>215.286</td>\n",
       "      <td>...</td>\n",
       "      <td>NaN</td>\n",
       "      <td>NaN</td>\n",
       "      <td>NaN</td>\n",
       "      <td>NaN</td>\n",
       "      <td>NaN</td>\n",
       "      <td>NaN</td>\n",
       "      <td>NaN</td>\n",
       "      <td>NaN</td>\n",
       "      <td>NaN</td>\n",
       "      <td>NaN</td>\n",
       "    </tr>\n",
       "    <tr>\n",
       "      <th>2</th>\n",
       "      <td>ALB</td>\n",
       "      <td>Europe</td>\n",
       "      <td>Albania</td>\n",
       "      <td>2021-10-19</td>\n",
       "      <td>178804.0</td>\n",
       "      <td>616.0</td>\n",
       "      <td>448.571</td>\n",
       "      <td>2841.0</td>\n",
       "      <td>12.0</td>\n",
       "      <td>8.286</td>\n",
       "      <td>...</td>\n",
       "      <td>7.1</td>\n",
       "      <td>51.2</td>\n",
       "      <td>NaN</td>\n",
       "      <td>2.890</td>\n",
       "      <td>78.57</td>\n",
       "      <td>0.795</td>\n",
       "      <td>NaN</td>\n",
       "      <td>NaN</td>\n",
       "      <td>NaN</td>\n",
       "      <td>NaN</td>\n",
       "    </tr>\n",
       "    <tr>\n",
       "      <th>3</th>\n",
       "      <td>DZA</td>\n",
       "      <td>Africa</td>\n",
       "      <td>Algeria</td>\n",
       "      <td>2021-10-19</td>\n",
       "      <td>205453.0</td>\n",
       "      <td>89.0</td>\n",
       "      <td>94.714</td>\n",
       "      <td>5875.0</td>\n",
       "      <td>2.0</td>\n",
       "      <td>2.286</td>\n",
       "      <td>...</td>\n",
       "      <td>0.7</td>\n",
       "      <td>30.4</td>\n",
       "      <td>83.741</td>\n",
       "      <td>1.900</td>\n",
       "      <td>76.88</td>\n",
       "      <td>0.748</td>\n",
       "      <td>NaN</td>\n",
       "      <td>NaN</td>\n",
       "      <td>NaN</td>\n",
       "      <td>NaN</td>\n",
       "    </tr>\n",
       "    <tr>\n",
       "      <th>4</th>\n",
       "      <td>AND</td>\n",
       "      <td>Europe</td>\n",
       "      <td>Andorra</td>\n",
       "      <td>2021-10-19</td>\n",
       "      <td>15369.0</td>\n",
       "      <td>2.0</td>\n",
       "      <td>8.857</td>\n",
       "      <td>130.0</td>\n",
       "      <td>0.0</td>\n",
       "      <td>0.000</td>\n",
       "      <td>...</td>\n",
       "      <td>29.0</td>\n",
       "      <td>37.8</td>\n",
       "      <td>NaN</td>\n",
       "      <td>NaN</td>\n",
       "      <td>83.73</td>\n",
       "      <td>0.868</td>\n",
       "      <td>NaN</td>\n",
       "      <td>NaN</td>\n",
       "      <td>NaN</td>\n",
       "      <td>NaN</td>\n",
       "    </tr>\n",
       "    <tr>\n",
       "      <th>5</th>\n",
       "      <td>AGO</td>\n",
       "      <td>Africa</td>\n",
       "      <td>Angola</td>\n",
       "      <td>2021-10-19</td>\n",
       "      <td>63197.0</td>\n",
       "      <td>185.0</td>\n",
       "      <td>200.429</td>\n",
       "      <td>1678.0</td>\n",
       "      <td>8.0</td>\n",
       "      <td>5.143</td>\n",
       "      <td>...</td>\n",
       "      <td>NaN</td>\n",
       "      <td>NaN</td>\n",
       "      <td>26.664</td>\n",
       "      <td>NaN</td>\n",
       "      <td>61.15</td>\n",
       "      <td>0.581</td>\n",
       "      <td>NaN</td>\n",
       "      <td>NaN</td>\n",
       "      <td>NaN</td>\n",
       "      <td>NaN</td>\n",
       "    </tr>\n",
       "    <tr>\n",
       "      <th>6</th>\n",
       "      <td>AIA</td>\n",
       "      <td>North America</td>\n",
       "      <td>Anguilla</td>\n",
       "      <td>2021-10-15</td>\n",
       "      <td>NaN</td>\n",
       "      <td>NaN</td>\n",
       "      <td>NaN</td>\n",
       "      <td>NaN</td>\n",
       "      <td>NaN</td>\n",
       "      <td>NaN</td>\n",
       "      <td>...</td>\n",
       "      <td>NaN</td>\n",
       "      <td>NaN</td>\n",
       "      <td>NaN</td>\n",
       "      <td>NaN</td>\n",
       "      <td>81.88</td>\n",
       "      <td>NaN</td>\n",
       "      <td>NaN</td>\n",
       "      <td>NaN</td>\n",
       "      <td>NaN</td>\n",
       "      <td>NaN</td>\n",
       "    </tr>\n",
       "    <tr>\n",
       "      <th>7</th>\n",
       "      <td>ATG</td>\n",
       "      <td>North America</td>\n",
       "      <td>Antigua and Barbuda</td>\n",
       "      <td>2021-10-19</td>\n",
       "      <td>3918.0</td>\n",
       "      <td>0.0</td>\n",
       "      <td>20.857</td>\n",
       "      <td>95.0</td>\n",
       "      <td>0.0</td>\n",
       "      <td>0.286</td>\n",
       "      <td>...</td>\n",
       "      <td>NaN</td>\n",
       "      <td>NaN</td>\n",
       "      <td>NaN</td>\n",
       "      <td>3.800</td>\n",
       "      <td>77.02</td>\n",
       "      <td>0.778</td>\n",
       "      <td>NaN</td>\n",
       "      <td>NaN</td>\n",
       "      <td>NaN</td>\n",
       "      <td>NaN</td>\n",
       "    </tr>\n",
       "    <tr>\n",
       "      <th>8</th>\n",
       "      <td>ARG</td>\n",
       "      <td>South America</td>\n",
       "      <td>Argentina</td>\n",
       "      <td>2021-10-19</td>\n",
       "      <td>5274766.0</td>\n",
       "      <td>1303.0</td>\n",
       "      <td>1061.000</td>\n",
       "      <td>115737.0</td>\n",
       "      <td>33.0</td>\n",
       "      <td>27.143</td>\n",
       "      <td>...</td>\n",
       "      <td>16.2</td>\n",
       "      <td>27.7</td>\n",
       "      <td>NaN</td>\n",
       "      <td>5.000</td>\n",
       "      <td>76.67</td>\n",
       "      <td>0.845</td>\n",
       "      <td>NaN</td>\n",
       "      <td>NaN</td>\n",
       "      <td>NaN</td>\n",
       "      <td>NaN</td>\n",
       "    </tr>\n",
       "    <tr>\n",
       "      <th>9</th>\n",
       "      <td>ARM</td>\n",
       "      <td>Asia</td>\n",
       "      <td>Armenia</td>\n",
       "      <td>2021-10-19</td>\n",
       "      <td>284237.0</td>\n",
       "      <td>1054.0</td>\n",
       "      <td>1482.429</td>\n",
       "      <td>5842.0</td>\n",
       "      <td>37.0</td>\n",
       "      <td>32.000</td>\n",
       "      <td>...</td>\n",
       "      <td>1.5</td>\n",
       "      <td>52.1</td>\n",
       "      <td>94.043</td>\n",
       "      <td>4.200</td>\n",
       "      <td>75.09</td>\n",
       "      <td>0.776</td>\n",
       "      <td>NaN</td>\n",
       "      <td>NaN</td>\n",
       "      <td>NaN</td>\n",
       "      <td>NaN</td>\n",
       "    </tr>\n",
       "    <tr>\n",
       "      <th>10</th>\n",
       "      <td>ABW</td>\n",
       "      <td>North America</td>\n",
       "      <td>Aruba</td>\n",
       "      <td>2021-10-19</td>\n",
       "      <td>NaN</td>\n",
       "      <td>NaN</td>\n",
       "      <td>NaN</td>\n",
       "      <td>NaN</td>\n",
       "      <td>NaN</td>\n",
       "      <td>NaN</td>\n",
       "      <td>...</td>\n",
       "      <td>NaN</td>\n",
       "      <td>NaN</td>\n",
       "      <td>NaN</td>\n",
       "      <td>NaN</td>\n",
       "      <td>76.29</td>\n",
       "      <td>NaN</td>\n",
       "      <td>NaN</td>\n",
       "      <td>NaN</td>\n",
       "      <td>NaN</td>\n",
       "      <td>NaN</td>\n",
       "    </tr>\n",
       "    <tr>\n",
       "      <th>11</th>\n",
       "      <td>OWID_ASI</td>\n",
       "      <td>NaN</td>\n",
       "      <td>Asia</td>\n",
       "      <td>2021-10-19</td>\n",
       "      <td>78141449.0</td>\n",
       "      <td>112786.0</td>\n",
       "      <td>112291.429</td>\n",
       "      <td>1156573.0</td>\n",
       "      <td>1446.0</td>\n",
       "      <td>1427.286</td>\n",
       "      <td>...</td>\n",
       "      <td>NaN</td>\n",
       "      <td>NaN</td>\n",
       "      <td>NaN</td>\n",
       "      <td>NaN</td>\n",
       "      <td>NaN</td>\n",
       "      <td>NaN</td>\n",
       "      <td>NaN</td>\n",
       "      <td>NaN</td>\n",
       "      <td>NaN</td>\n",
       "      <td>NaN</td>\n",
       "    </tr>\n",
       "    <tr>\n",
       "      <th>12</th>\n",
       "      <td>AUS</td>\n",
       "      <td>Oceania</td>\n",
       "      <td>Australia</td>\n",
       "      <td>2021-10-19</td>\n",
       "      <td>149398.0</td>\n",
       "      <td>2097.0</td>\n",
       "      <td>2279.143</td>\n",
       "      <td>1577.0</td>\n",
       "      <td>19.0</td>\n",
       "      <td>14.143</td>\n",
       "      <td>...</td>\n",
       "      <td>13.0</td>\n",
       "      <td>16.5</td>\n",
       "      <td>NaN</td>\n",
       "      <td>3.840</td>\n",
       "      <td>83.44</td>\n",
       "      <td>0.944</td>\n",
       "      <td>NaN</td>\n",
       "      <td>NaN</td>\n",
       "      <td>NaN</td>\n",
       "      <td>NaN</td>\n",
       "    </tr>\n",
       "    <tr>\n",
       "      <th>13</th>\n",
       "      <td>AUT</td>\n",
       "      <td>Europe</td>\n",
       "      <td>Austria</td>\n",
       "      <td>2021-10-19</td>\n",
       "      <td>780269.0</td>\n",
       "      <td>2590.0</td>\n",
       "      <td>2334.429</td>\n",
       "      <td>11196.0</td>\n",
       "      <td>16.0</td>\n",
       "      <td>10.857</td>\n",
       "      <td>...</td>\n",
       "      <td>28.4</td>\n",
       "      <td>30.9</td>\n",
       "      <td>NaN</td>\n",
       "      <td>7.370</td>\n",
       "      <td>81.54</td>\n",
       "      <td>0.922</td>\n",
       "      <td>NaN</td>\n",
       "      <td>NaN</td>\n",
       "      <td>NaN</td>\n",
       "      <td>NaN</td>\n",
       "    </tr>\n",
       "    <tr>\n",
       "      <th>14</th>\n",
       "      <td>AZE</td>\n",
       "      <td>Asia</td>\n",
       "      <td>Azerbaijan</td>\n",
       "      <td>2021-10-19</td>\n",
       "      <td>505554.0</td>\n",
       "      <td>2102.0</td>\n",
       "      <td>1641.000</td>\n",
       "      <td>6793.0</td>\n",
       "      <td>15.0</td>\n",
       "      <td>14.429</td>\n",
       "      <td>...</td>\n",
       "      <td>0.3</td>\n",
       "      <td>42.5</td>\n",
       "      <td>83.241</td>\n",
       "      <td>4.700</td>\n",
       "      <td>73.00</td>\n",
       "      <td>0.756</td>\n",
       "      <td>NaN</td>\n",
       "      <td>NaN</td>\n",
       "      <td>NaN</td>\n",
       "      <td>NaN</td>\n",
       "    </tr>\n",
       "    <tr>\n",
       "      <th>15</th>\n",
       "      <td>BHS</td>\n",
       "      <td>North America</td>\n",
       "      <td>Bahamas</td>\n",
       "      <td>2021-10-19</td>\n",
       "      <td>22048.0</td>\n",
       "      <td>70.0</td>\n",
       "      <td>66.857</td>\n",
       "      <td>626.0</td>\n",
       "      <td>0.0</td>\n",
       "      <td>5.143</td>\n",
       "      <td>...</td>\n",
       "      <td>3.1</td>\n",
       "      <td>20.4</td>\n",
       "      <td>NaN</td>\n",
       "      <td>2.900</td>\n",
       "      <td>73.92</td>\n",
       "      <td>0.814</td>\n",
       "      <td>NaN</td>\n",
       "      <td>NaN</td>\n",
       "      <td>NaN</td>\n",
       "      <td>NaN</td>\n",
       "    </tr>\n",
       "    <tr>\n",
       "      <th>16</th>\n",
       "      <td>BHR</td>\n",
       "      <td>Asia</td>\n",
       "      <td>Bahrain</td>\n",
       "      <td>2021-10-19</td>\n",
       "      <td>276262.0</td>\n",
       "      <td>74.0</td>\n",
       "      <td>65.571</td>\n",
       "      <td>1392.0</td>\n",
       "      <td>1.0</td>\n",
       "      <td>0.286</td>\n",
       "      <td>...</td>\n",
       "      <td>5.8</td>\n",
       "      <td>37.6</td>\n",
       "      <td>NaN</td>\n",
       "      <td>2.000</td>\n",
       "      <td>77.29</td>\n",
       "      <td>0.852</td>\n",
       "      <td>NaN</td>\n",
       "      <td>NaN</td>\n",
       "      <td>NaN</td>\n",
       "      <td>NaN</td>\n",
       "    </tr>\n",
       "    <tr>\n",
       "      <th>17</th>\n",
       "      <td>BGD</td>\n",
       "      <td>Asia</td>\n",
       "      <td>Bangladesh</td>\n",
       "      <td>2021-10-19</td>\n",
       "      <td>1566296.0</td>\n",
       "      <td>469.0</td>\n",
       "      <td>399.286</td>\n",
       "      <td>27785.0</td>\n",
       "      <td>7.0</td>\n",
       "      <td>10.286</td>\n",
       "      <td>...</td>\n",
       "      <td>1.0</td>\n",
       "      <td>44.7</td>\n",
       "      <td>34.808</td>\n",
       "      <td>0.800</td>\n",
       "      <td>72.59</td>\n",
       "      <td>0.632</td>\n",
       "      <td>NaN</td>\n",
       "      <td>NaN</td>\n",
       "      <td>NaN</td>\n",
       "      <td>NaN</td>\n",
       "    </tr>\n",
       "    <tr>\n",
       "      <th>18</th>\n",
       "      <td>BRB</td>\n",
       "      <td>North America</td>\n",
       "      <td>Barbados</td>\n",
       "      <td>2021-10-19</td>\n",
       "      <td>13553.0</td>\n",
       "      <td>382.0</td>\n",
       "      <td>297.000</td>\n",
       "      <td>120.0</td>\n",
       "      <td>1.0</td>\n",
       "      <td>2.714</td>\n",
       "      <td>...</td>\n",
       "      <td>1.9</td>\n",
       "      <td>14.5</td>\n",
       "      <td>88.469</td>\n",
       "      <td>5.800</td>\n",
       "      <td>79.19</td>\n",
       "      <td>0.814</td>\n",
       "      <td>NaN</td>\n",
       "      <td>NaN</td>\n",
       "      <td>NaN</td>\n",
       "      <td>NaN</td>\n",
       "    </tr>\n",
       "    <tr>\n",
       "      <th>19</th>\n",
       "      <td>BLR</td>\n",
       "      <td>Europe</td>\n",
       "      <td>Belarus</td>\n",
       "      <td>2021-10-19</td>\n",
       "      <td>575856.0</td>\n",
       "      <td>1913.0</td>\n",
       "      <td>2014.714</td>\n",
       "      <td>4432.0</td>\n",
       "      <td>15.0</td>\n",
       "      <td>16.143</td>\n",
       "      <td>...</td>\n",
       "      <td>10.5</td>\n",
       "      <td>46.1</td>\n",
       "      <td>NaN</td>\n",
       "      <td>11.000</td>\n",
       "      <td>74.79</td>\n",
       "      <td>0.823</td>\n",
       "      <td>NaN</td>\n",
       "      <td>NaN</td>\n",
       "      <td>NaN</td>\n",
       "      <td>NaN</td>\n",
       "    </tr>\n",
       "    <tr>\n",
       "      <th>20</th>\n",
       "      <td>BEL</td>\n",
       "      <td>Europe</td>\n",
       "      <td>Belgium</td>\n",
       "      <td>2021-10-19</td>\n",
       "      <td>1292887.0</td>\n",
       "      <td>3854.0</td>\n",
       "      <td>3412.143</td>\n",
       "      <td>25797.0</td>\n",
       "      <td>17.0</td>\n",
       "      <td>12.000</td>\n",
       "      <td>...</td>\n",
       "      <td>25.1</td>\n",
       "      <td>31.4</td>\n",
       "      <td>NaN</td>\n",
       "      <td>5.640</td>\n",
       "      <td>81.63</td>\n",
       "      <td>0.931</td>\n",
       "      <td>NaN</td>\n",
       "      <td>NaN</td>\n",
       "      <td>NaN</td>\n",
       "      <td>NaN</td>\n",
       "    </tr>\n",
       "    <tr>\n",
       "      <th>21</th>\n",
       "      <td>BLZ</td>\n",
       "      <td>North America</td>\n",
       "      <td>Belize</td>\n",
       "      <td>2021-10-19</td>\n",
       "      <td>24768.0</td>\n",
       "      <td>321.0</td>\n",
       "      <td>368.714</td>\n",
       "      <td>466.0</td>\n",
       "      <td>1.0</td>\n",
       "      <td>5.571</td>\n",
       "      <td>...</td>\n",
       "      <td>NaN</td>\n",
       "      <td>NaN</td>\n",
       "      <td>90.083</td>\n",
       "      <td>1.300</td>\n",
       "      <td>74.62</td>\n",
       "      <td>0.716</td>\n",
       "      <td>NaN</td>\n",
       "      <td>NaN</td>\n",
       "      <td>NaN</td>\n",
       "      <td>NaN</td>\n",
       "    </tr>\n",
       "    <tr>\n",
       "      <th>22</th>\n",
       "      <td>BEN</td>\n",
       "      <td>Africa</td>\n",
       "      <td>Benin</td>\n",
       "      <td>2021-10-19</td>\n",
       "      <td>24560.0</td>\n",
       "      <td>0.0</td>\n",
       "      <td>32.143</td>\n",
       "      <td>161.0</td>\n",
       "      <td>0.0</td>\n",
       "      <td>0.286</td>\n",
       "      <td>...</td>\n",
       "      <td>0.6</td>\n",
       "      <td>12.3</td>\n",
       "      <td>11.035</td>\n",
       "      <td>0.500</td>\n",
       "      <td>61.77</td>\n",
       "      <td>0.545</td>\n",
       "      <td>NaN</td>\n",
       "      <td>NaN</td>\n",
       "      <td>NaN</td>\n",
       "      <td>NaN</td>\n",
       "    </tr>\n",
       "    <tr>\n",
       "      <th>23</th>\n",
       "      <td>BMU</td>\n",
       "      <td>North America</td>\n",
       "      <td>Bermuda</td>\n",
       "      <td>2021-10-15</td>\n",
       "      <td>NaN</td>\n",
       "      <td>NaN</td>\n",
       "      <td>NaN</td>\n",
       "      <td>NaN</td>\n",
       "      <td>NaN</td>\n",
       "      <td>NaN</td>\n",
       "      <td>...</td>\n",
       "      <td>NaN</td>\n",
       "      <td>NaN</td>\n",
       "      <td>NaN</td>\n",
       "      <td>NaN</td>\n",
       "      <td>82.59</td>\n",
       "      <td>NaN</td>\n",
       "      <td>NaN</td>\n",
       "      <td>NaN</td>\n",
       "      <td>NaN</td>\n",
       "      <td>NaN</td>\n",
       "    </tr>\n",
       "    <tr>\n",
       "      <th>24</th>\n",
       "      <td>BTN</td>\n",
       "      <td>Asia</td>\n",
       "      <td>Bhutan</td>\n",
       "      <td>2021-10-19</td>\n",
       "      <td>2617.0</td>\n",
       "      <td>0.0</td>\n",
       "      <td>0.571</td>\n",
       "      <td>3.0</td>\n",
       "      <td>0.0</td>\n",
       "      <td>0.000</td>\n",
       "      <td>...</td>\n",
       "      <td>NaN</td>\n",
       "      <td>NaN</td>\n",
       "      <td>79.807</td>\n",
       "      <td>1.700</td>\n",
       "      <td>71.78</td>\n",
       "      <td>0.654</td>\n",
       "      <td>NaN</td>\n",
       "      <td>NaN</td>\n",
       "      <td>NaN</td>\n",
       "      <td>NaN</td>\n",
       "    </tr>\n",
       "    <tr>\n",
       "      <th>25</th>\n",
       "      <td>BOL</td>\n",
       "      <td>South America</td>\n",
       "      <td>Bolivia</td>\n",
       "      <td>2021-10-19</td>\n",
       "      <td>507134.0</td>\n",
       "      <td>0.0</td>\n",
       "      <td>361.857</td>\n",
       "      <td>18877.0</td>\n",
       "      <td>43.0</td>\n",
       "      <td>10.143</td>\n",
       "      <td>...</td>\n",
       "      <td>NaN</td>\n",
       "      <td>NaN</td>\n",
       "      <td>25.383</td>\n",
       "      <td>1.100</td>\n",
       "      <td>71.51</td>\n",
       "      <td>0.718</td>\n",
       "      <td>NaN</td>\n",
       "      <td>NaN</td>\n",
       "      <td>NaN</td>\n",
       "      <td>NaN</td>\n",
       "    </tr>\n",
       "    <tr>\n",
       "      <th>26</th>\n",
       "      <td>BIH</td>\n",
       "      <td>Europe</td>\n",
       "      <td>Bosnia and Herzegovina</td>\n",
       "      <td>2021-10-19</td>\n",
       "      <td>245791.0</td>\n",
       "      <td>709.0</td>\n",
       "      <td>549.286</td>\n",
       "      <td>11228.0</td>\n",
       "      <td>27.0</td>\n",
       "      <td>31.286</td>\n",
       "      <td>...</td>\n",
       "      <td>30.2</td>\n",
       "      <td>47.7</td>\n",
       "      <td>97.164</td>\n",
       "      <td>3.500</td>\n",
       "      <td>77.40</td>\n",
       "      <td>0.780</td>\n",
       "      <td>NaN</td>\n",
       "      <td>NaN</td>\n",
       "      <td>NaN</td>\n",
       "      <td>NaN</td>\n",
       "    </tr>\n",
       "    <tr>\n",
       "      <th>27</th>\n",
       "      <td>BWA</td>\n",
       "      <td>Africa</td>\n",
       "      <td>Botswana</td>\n",
       "      <td>2021-10-19</td>\n",
       "      <td>184051.0</td>\n",
       "      <td>0.0</td>\n",
       "      <td>400.000</td>\n",
       "      <td>2389.0</td>\n",
       "      <td>0.0</td>\n",
       "      <td>1.143</td>\n",
       "      <td>...</td>\n",
       "      <td>5.7</td>\n",
       "      <td>34.4</td>\n",
       "      <td>NaN</td>\n",
       "      <td>1.800</td>\n",
       "      <td>69.59</td>\n",
       "      <td>0.735</td>\n",
       "      <td>NaN</td>\n",
       "      <td>NaN</td>\n",
       "      <td>NaN</td>\n",
       "      <td>NaN</td>\n",
       "    </tr>\n",
       "    <tr>\n",
       "      <th>28</th>\n",
       "      <td>BRA</td>\n",
       "      <td>South America</td>\n",
       "      <td>Brazil</td>\n",
       "      <td>2021-10-19</td>\n",
       "      <td>21664879.0</td>\n",
       "      <td>12969.0</td>\n",
       "      <td>10683.143</td>\n",
       "      <td>603855.0</td>\n",
       "      <td>390.0</td>\n",
       "      <td>351.000</td>\n",
       "      <td>...</td>\n",
       "      <td>10.1</td>\n",
       "      <td>17.9</td>\n",
       "      <td>NaN</td>\n",
       "      <td>2.200</td>\n",
       "      <td>75.88</td>\n",
       "      <td>0.765</td>\n",
       "      <td>NaN</td>\n",
       "      <td>NaN</td>\n",
       "      <td>NaN</td>\n",
       "      <td>NaN</td>\n",
       "    </tr>\n",
       "    <tr>\n",
       "      <th>29</th>\n",
       "      <td>VGB</td>\n",
       "      <td>North America</td>\n",
       "      <td>British Virgin Islands</td>\n",
       "      <td>2021-10-08</td>\n",
       "      <td>NaN</td>\n",
       "      <td>NaN</td>\n",
       "      <td>NaN</td>\n",
       "      <td>NaN</td>\n",
       "      <td>NaN</td>\n",
       "      <td>NaN</td>\n",
       "      <td>...</td>\n",
       "      <td>NaN</td>\n",
       "      <td>NaN</td>\n",
       "      <td>NaN</td>\n",
       "      <td>NaN</td>\n",
       "      <td>79.07</td>\n",
       "      <td>NaN</td>\n",
       "      <td>NaN</td>\n",
       "      <td>NaN</td>\n",
       "      <td>NaN</td>\n",
       "      <td>NaN</td>\n",
       "    </tr>\n",
       "    <tr>\n",
       "      <th>30</th>\n",
       "      <td>BRN</td>\n",
       "      <td>Asia</td>\n",
       "      <td>Brunei</td>\n",
       "      <td>2021-10-19</td>\n",
       "      <td>11220.0</td>\n",
       "      <td>173.0</td>\n",
       "      <td>249.714</td>\n",
       "      <td>77.0</td>\n",
       "      <td>1.0</td>\n",
       "      <td>1.857</td>\n",
       "      <td>...</td>\n",
       "      <td>2.0</td>\n",
       "      <td>30.9</td>\n",
       "      <td>NaN</td>\n",
       "      <td>2.700</td>\n",
       "      <td>75.86</td>\n",
       "      <td>0.838</td>\n",
       "      <td>NaN</td>\n",
       "      <td>NaN</td>\n",
       "      <td>NaN</td>\n",
       "      <td>NaN</td>\n",
       "    </tr>\n",
       "    <tr>\n",
       "      <th>31</th>\n",
       "      <td>BGR</td>\n",
       "      <td>Europe</td>\n",
       "      <td>Bulgaria</td>\n",
       "      <td>2021-10-19</td>\n",
       "      <td>550555.0</td>\n",
       "      <td>4957.0</td>\n",
       "      <td>3250.429</td>\n",
       "      <td>22612.0</td>\n",
       "      <td>124.0</td>\n",
       "      <td>100.857</td>\n",
       "      <td>...</td>\n",
       "      <td>30.1</td>\n",
       "      <td>44.4</td>\n",
       "      <td>NaN</td>\n",
       "      <td>7.454</td>\n",
       "      <td>75.05</td>\n",
       "      <td>0.816</td>\n",
       "      <td>NaN</td>\n",
       "      <td>NaN</td>\n",
       "      <td>NaN</td>\n",
       "      <td>NaN</td>\n",
       "    </tr>\n",
       "    <tr>\n",
       "      <th>32</th>\n",
       "      <td>BFA</td>\n",
       "      <td>Africa</td>\n",
       "      <td>Burkina Faso</td>\n",
       "      <td>2021-10-19</td>\n",
       "      <td>14759.0</td>\n",
       "      <td>7.0</td>\n",
       "      <td>30.429</td>\n",
       "      <td>209.0</td>\n",
       "      <td>6.0</td>\n",
       "      <td>1.286</td>\n",
       "      <td>...</td>\n",
       "      <td>1.6</td>\n",
       "      <td>23.9</td>\n",
       "      <td>11.877</td>\n",
       "      <td>0.400</td>\n",
       "      <td>61.58</td>\n",
       "      <td>0.452</td>\n",
       "      <td>NaN</td>\n",
       "      <td>NaN</td>\n",
       "      <td>NaN</td>\n",
       "      <td>NaN</td>\n",
       "    </tr>\n",
       "    <tr>\n",
       "      <th>33</th>\n",
       "      <td>BDI</td>\n",
       "      <td>Africa</td>\n",
       "      <td>Burundi</td>\n",
       "      <td>2021-10-19</td>\n",
       "      <td>19745.0</td>\n",
       "      <td>15.0</td>\n",
       "      <td>58.714</td>\n",
       "      <td>38.0</td>\n",
       "      <td>0.0</td>\n",
       "      <td>0.000</td>\n",
       "      <td>...</td>\n",
       "      <td>NaN</td>\n",
       "      <td>NaN</td>\n",
       "      <td>6.144</td>\n",
       "      <td>0.800</td>\n",
       "      <td>61.58</td>\n",
       "      <td>0.433</td>\n",
       "      <td>NaN</td>\n",
       "      <td>NaN</td>\n",
       "      <td>NaN</td>\n",
       "      <td>NaN</td>\n",
       "    </tr>\n",
       "    <tr>\n",
       "      <th>34</th>\n",
       "      <td>KHM</td>\n",
       "      <td>Asia</td>\n",
       "      <td>Cambodia</td>\n",
       "      <td>2021-10-19</td>\n",
       "      <td>117035.0</td>\n",
       "      <td>175.0</td>\n",
       "      <td>242.857</td>\n",
       "      <td>2681.0</td>\n",
       "      <td>11.0</td>\n",
       "      <td>19.571</td>\n",
       "      <td>...</td>\n",
       "      <td>2.0</td>\n",
       "      <td>33.7</td>\n",
       "      <td>66.229</td>\n",
       "      <td>0.800</td>\n",
       "      <td>69.82</td>\n",
       "      <td>0.594</td>\n",
       "      <td>NaN</td>\n",
       "      <td>NaN</td>\n",
       "      <td>NaN</td>\n",
       "      <td>NaN</td>\n",
       "    </tr>\n",
       "    <tr>\n",
       "      <th>35</th>\n",
       "      <td>CMR</td>\n",
       "      <td>Africa</td>\n",
       "      <td>Cameroon</td>\n",
       "      <td>2021-10-19</td>\n",
       "      <td>100289.0</td>\n",
       "      <td>1887.0</td>\n",
       "      <td>698.571</td>\n",
       "      <td>1600.0</td>\n",
       "      <td>50.0</td>\n",
       "      <td>11.857</td>\n",
       "      <td>...</td>\n",
       "      <td>NaN</td>\n",
       "      <td>NaN</td>\n",
       "      <td>2.735</td>\n",
       "      <td>1.300</td>\n",
       "      <td>59.29</td>\n",
       "      <td>0.563</td>\n",
       "      <td>NaN</td>\n",
       "      <td>NaN</td>\n",
       "      <td>NaN</td>\n",
       "      <td>NaN</td>\n",
       "    </tr>\n",
       "    <tr>\n",
       "      <th>36</th>\n",
       "      <td>CAN</td>\n",
       "      <td>North America</td>\n",
       "      <td>Canada</td>\n",
       "      <td>2021-10-19</td>\n",
       "      <td>1695788.0</td>\n",
       "      <td>2424.0</td>\n",
       "      <td>2854.714</td>\n",
       "      <td>28657.0</td>\n",
       "      <td>41.0</td>\n",
       "      <td>44.857</td>\n",
       "      <td>...</td>\n",
       "      <td>12.0</td>\n",
       "      <td>16.6</td>\n",
       "      <td>NaN</td>\n",
       "      <td>2.500</td>\n",
       "      <td>82.43</td>\n",
       "      <td>0.929</td>\n",
       "      <td>NaN</td>\n",
       "      <td>NaN</td>\n",
       "      <td>NaN</td>\n",
       "      <td>NaN</td>\n",
       "    </tr>\n",
       "    <tr>\n",
       "      <th>37</th>\n",
       "      <td>CPV</td>\n",
       "      <td>Africa</td>\n",
       "      <td>Cape Verde</td>\n",
       "      <td>2021-10-19</td>\n",
       "      <td>38052.0</td>\n",
       "      <td>3.0</td>\n",
       "      <td>18.857</td>\n",
       "      <td>347.0</td>\n",
       "      <td>0.0</td>\n",
       "      <td>0.000</td>\n",
       "      <td>...</td>\n",
       "      <td>2.1</td>\n",
       "      <td>16.5</td>\n",
       "      <td>NaN</td>\n",
       "      <td>2.100</td>\n",
       "      <td>72.98</td>\n",
       "      <td>0.665</td>\n",
       "      <td>NaN</td>\n",
       "      <td>NaN</td>\n",
       "      <td>NaN</td>\n",
       "      <td>NaN</td>\n",
       "    </tr>\n",
       "    <tr>\n",
       "      <th>38</th>\n",
       "      <td>CYM</td>\n",
       "      <td>North America</td>\n",
       "      <td>Cayman Islands</td>\n",
       "      <td>2021-10-14</td>\n",
       "      <td>NaN</td>\n",
       "      <td>NaN</td>\n",
       "      <td>NaN</td>\n",
       "      <td>NaN</td>\n",
       "      <td>NaN</td>\n",
       "      <td>NaN</td>\n",
       "      <td>...</td>\n",
       "      <td>NaN</td>\n",
       "      <td>NaN</td>\n",
       "      <td>NaN</td>\n",
       "      <td>NaN</td>\n",
       "      <td>83.92</td>\n",
       "      <td>NaN</td>\n",
       "      <td>NaN</td>\n",
       "      <td>NaN</td>\n",
       "      <td>NaN</td>\n",
       "      <td>NaN</td>\n",
       "    </tr>\n",
       "    <tr>\n",
       "      <th>39</th>\n",
       "      <td>CAF</td>\n",
       "      <td>Africa</td>\n",
       "      <td>Central African Republic</td>\n",
       "      <td>2021-10-19</td>\n",
       "      <td>11478.0</td>\n",
       "      <td>0.0</td>\n",
       "      <td>11.000</td>\n",
       "      <td>100.0</td>\n",
       "      <td>0.0</td>\n",
       "      <td>0.000</td>\n",
       "      <td>...</td>\n",
       "      <td>NaN</td>\n",
       "      <td>NaN</td>\n",
       "      <td>16.603</td>\n",
       "      <td>1.000</td>\n",
       "      <td>53.28</td>\n",
       "      <td>0.397</td>\n",
       "      <td>NaN</td>\n",
       "      <td>NaN</td>\n",
       "      <td>NaN</td>\n",
       "      <td>NaN</td>\n",
       "    </tr>\n",
       "    <tr>\n",
       "      <th>40</th>\n",
       "      <td>TCD</td>\n",
       "      <td>Africa</td>\n",
       "      <td>Chad</td>\n",
       "      <td>2021-10-19</td>\n",
       "      <td>5069.0</td>\n",
       "      <td>0.0</td>\n",
       "      <td>1.143</td>\n",
       "      <td>174.0</td>\n",
       "      <td>0.0</td>\n",
       "      <td>0.000</td>\n",
       "      <td>...</td>\n",
       "      <td>NaN</td>\n",
       "      <td>NaN</td>\n",
       "      <td>5.818</td>\n",
       "      <td>NaN</td>\n",
       "      <td>54.24</td>\n",
       "      <td>0.398</td>\n",
       "      <td>NaN</td>\n",
       "      <td>NaN</td>\n",
       "      <td>NaN</td>\n",
       "      <td>NaN</td>\n",
       "    </tr>\n",
       "    <tr>\n",
       "      <th>41</th>\n",
       "      <td>CHL</td>\n",
       "      <td>South America</td>\n",
       "      <td>Chile</td>\n",
       "      <td>2021-10-19</td>\n",
       "      <td>1672998.0</td>\n",
       "      <td>933.0</td>\n",
       "      <td>1286.571</td>\n",
       "      <td>37623.0</td>\n",
       "      <td>3.0</td>\n",
       "      <td>7.000</td>\n",
       "      <td>...</td>\n",
       "      <td>34.2</td>\n",
       "      <td>41.5</td>\n",
       "      <td>NaN</td>\n",
       "      <td>2.110</td>\n",
       "      <td>80.18</td>\n",
       "      <td>0.851</td>\n",
       "      <td>NaN</td>\n",
       "      <td>NaN</td>\n",
       "      <td>NaN</td>\n",
       "      <td>NaN</td>\n",
       "    </tr>\n",
       "    <tr>\n",
       "      <th>42</th>\n",
       "      <td>CHN</td>\n",
       "      <td>Asia</td>\n",
       "      <td>China</td>\n",
       "      <td>2021-10-19</td>\n",
       "      <td>96678.0</td>\n",
       "      <td>30.0</td>\n",
       "      <td>20.571</td>\n",
       "      <td>4636.0</td>\n",
       "      <td>0.0</td>\n",
       "      <td>0.000</td>\n",
       "      <td>...</td>\n",
       "      <td>1.9</td>\n",
       "      <td>48.4</td>\n",
       "      <td>NaN</td>\n",
       "      <td>4.340</td>\n",
       "      <td>76.91</td>\n",
       "      <td>0.761</td>\n",
       "      <td>NaN</td>\n",
       "      <td>NaN</td>\n",
       "      <td>NaN</td>\n",
       "      <td>NaN</td>\n",
       "    </tr>\n",
       "    <tr>\n",
       "      <th>43</th>\n",
       "      <td>COL</td>\n",
       "      <td>South America</td>\n",
       "      <td>Colombia</td>\n",
       "      <td>2021-10-19</td>\n",
       "      <td>4983527.0</td>\n",
       "      <td>952.0</td>\n",
       "      <td>1303.857</td>\n",
       "      <td>126910.0</td>\n",
       "      <td>24.0</td>\n",
       "      <td>31.143</td>\n",
       "      <td>...</td>\n",
       "      <td>4.7</td>\n",
       "      <td>13.5</td>\n",
       "      <td>65.386</td>\n",
       "      <td>1.710</td>\n",
       "      <td>77.29</td>\n",
       "      <td>0.767</td>\n",
       "      <td>NaN</td>\n",
       "      <td>NaN</td>\n",
       "      <td>NaN</td>\n",
       "      <td>NaN</td>\n",
       "    </tr>\n",
       "    <tr>\n",
       "      <th>44</th>\n",
       "      <td>COM</td>\n",
       "      <td>Africa</td>\n",
       "      <td>Comoros</td>\n",
       "      <td>2021-10-19</td>\n",
       "      <td>4191.0</td>\n",
       "      <td>1.0</td>\n",
       "      <td>3.143</td>\n",
       "      <td>147.0</td>\n",
       "      <td>0.0</td>\n",
       "      <td>0.000</td>\n",
       "      <td>...</td>\n",
       "      <td>4.4</td>\n",
       "      <td>23.6</td>\n",
       "      <td>15.574</td>\n",
       "      <td>2.200</td>\n",
       "      <td>64.32</td>\n",
       "      <td>0.554</td>\n",
       "      <td>NaN</td>\n",
       "      <td>NaN</td>\n",
       "      <td>NaN</td>\n",
       "      <td>NaN</td>\n",
       "    </tr>\n",
       "    <tr>\n",
       "      <th>45</th>\n",
       "      <td>COG</td>\n",
       "      <td>Africa</td>\n",
       "      <td>Congo</td>\n",
       "      <td>2021-10-19</td>\n",
       "      <td>15962.0</td>\n",
       "      <td>0.0</td>\n",
       "      <td>101.000</td>\n",
       "      <td>231.0</td>\n",
       "      <td>0.0</td>\n",
       "      <td>1.714</td>\n",
       "      <td>...</td>\n",
       "      <td>1.7</td>\n",
       "      <td>52.3</td>\n",
       "      <td>47.964</td>\n",
       "      <td>NaN</td>\n",
       "      <td>64.57</td>\n",
       "      <td>0.574</td>\n",
       "      <td>NaN</td>\n",
       "      <td>NaN</td>\n",
       "      <td>NaN</td>\n",
       "      <td>NaN</td>\n",
       "    </tr>\n",
       "    <tr>\n",
       "      <th>46</th>\n",
       "      <td>COK</td>\n",
       "      <td>Oceania</td>\n",
       "      <td>Cook Islands</td>\n",
       "      <td>2021-10-18</td>\n",
       "      <td>NaN</td>\n",
       "      <td>NaN</td>\n",
       "      <td>NaN</td>\n",
       "      <td>NaN</td>\n",
       "      <td>NaN</td>\n",
       "      <td>NaN</td>\n",
       "      <td>...</td>\n",
       "      <td>NaN</td>\n",
       "      <td>NaN</td>\n",
       "      <td>NaN</td>\n",
       "      <td>NaN</td>\n",
       "      <td>76.25</td>\n",
       "      <td>NaN</td>\n",
       "      <td>NaN</td>\n",
       "      <td>NaN</td>\n",
       "      <td>NaN</td>\n",
       "      <td>NaN</td>\n",
       "    </tr>\n",
       "    <tr>\n",
       "      <th>47</th>\n",
       "      <td>CRI</td>\n",
       "      <td>North America</td>\n",
       "      <td>Costa Rica</td>\n",
       "      <td>2021-10-19</td>\n",
       "      <td>553661.0</td>\n",
       "      <td>708.0</td>\n",
       "      <td>821.000</td>\n",
       "      <td>6880.0</td>\n",
       "      <td>23.0</td>\n",
       "      <td>23.143</td>\n",
       "      <td>...</td>\n",
       "      <td>6.4</td>\n",
       "      <td>17.4</td>\n",
       "      <td>83.841</td>\n",
       "      <td>1.130</td>\n",
       "      <td>80.28</td>\n",
       "      <td>0.810</td>\n",
       "      <td>NaN</td>\n",
       "      <td>NaN</td>\n",
       "      <td>NaN</td>\n",
       "      <td>NaN</td>\n",
       "    </tr>\n",
       "    <tr>\n",
       "      <th>48</th>\n",
       "      <td>CIV</td>\n",
       "      <td>Africa</td>\n",
       "      <td>Cote d'Ivoire</td>\n",
       "      <td>2021-10-19</td>\n",
       "      <td>61089.0</td>\n",
       "      <td>17.0</td>\n",
       "      <td>30.143</td>\n",
       "      <td>685.0</td>\n",
       "      <td>0.0</td>\n",
       "      <td>1.857</td>\n",
       "      <td>...</td>\n",
       "      <td>NaN</td>\n",
       "      <td>NaN</td>\n",
       "      <td>19.351</td>\n",
       "      <td>NaN</td>\n",
       "      <td>57.78</td>\n",
       "      <td>0.538</td>\n",
       "      <td>NaN</td>\n",
       "      <td>NaN</td>\n",
       "      <td>NaN</td>\n",
       "      <td>NaN</td>\n",
       "    </tr>\n",
       "    <tr>\n",
       "      <th>49</th>\n",
       "      <td>HRV</td>\n",
       "      <td>Europe</td>\n",
       "      <td>Croatia</td>\n",
       "      <td>2021-10-19</td>\n",
       "      <td>429974.0</td>\n",
       "      <td>1741.0</td>\n",
       "      <td>1562.714</td>\n",
       "      <td>8928.0</td>\n",
       "      <td>21.0</td>\n",
       "      <td>18.000</td>\n",
       "      <td>...</td>\n",
       "      <td>34.3</td>\n",
       "      <td>39.9</td>\n",
       "      <td>NaN</td>\n",
       "      <td>5.540</td>\n",
       "      <td>78.49</td>\n",
       "      <td>0.851</td>\n",
       "      <td>NaN</td>\n",
       "      <td>NaN</td>\n",
       "      <td>NaN</td>\n",
       "      <td>NaN</td>\n",
       "    </tr>\n",
       "  </tbody>\n",
       "</table>\n",
       "<p>50 rows × 65 columns</p>\n",
       "</div>"
      ],
      "text/plain": [
       "    iso_code      continent                  location last_updated_date  \\\n",
       "0        AFG           Asia               Afghanistan        2021-10-19   \n",
       "1   OWID_AFR            NaN                    Africa        2021-10-19   \n",
       "2        ALB         Europe                   Albania        2021-10-19   \n",
       "3        DZA         Africa                   Algeria        2021-10-19   \n",
       "4        AND         Europe                   Andorra        2021-10-19   \n",
       "5        AGO         Africa                    Angola        2021-10-19   \n",
       "6        AIA  North America                  Anguilla        2021-10-15   \n",
       "7        ATG  North America       Antigua and Barbuda        2021-10-19   \n",
       "8        ARG  South America                 Argentina        2021-10-19   \n",
       "9        ARM           Asia                   Armenia        2021-10-19   \n",
       "10       ABW  North America                     Aruba        2021-10-19   \n",
       "11  OWID_ASI            NaN                      Asia        2021-10-19   \n",
       "12       AUS        Oceania                 Australia        2021-10-19   \n",
       "13       AUT         Europe                   Austria        2021-10-19   \n",
       "14       AZE           Asia                Azerbaijan        2021-10-19   \n",
       "15       BHS  North America                   Bahamas        2021-10-19   \n",
       "16       BHR           Asia                   Bahrain        2021-10-19   \n",
       "17       BGD           Asia                Bangladesh        2021-10-19   \n",
       "18       BRB  North America                  Barbados        2021-10-19   \n",
       "19       BLR         Europe                   Belarus        2021-10-19   \n",
       "20       BEL         Europe                   Belgium        2021-10-19   \n",
       "21       BLZ  North America                    Belize        2021-10-19   \n",
       "22       BEN         Africa                     Benin        2021-10-19   \n",
       "23       BMU  North America                   Bermuda        2021-10-15   \n",
       "24       BTN           Asia                    Bhutan        2021-10-19   \n",
       "25       BOL  South America                   Bolivia        2021-10-19   \n",
       "26       BIH         Europe    Bosnia and Herzegovina        2021-10-19   \n",
       "27       BWA         Africa                  Botswana        2021-10-19   \n",
       "28       BRA  South America                    Brazil        2021-10-19   \n",
       "29       VGB  North America    British Virgin Islands        2021-10-08   \n",
       "30       BRN           Asia                    Brunei        2021-10-19   \n",
       "31       BGR         Europe                  Bulgaria        2021-10-19   \n",
       "32       BFA         Africa              Burkina Faso        2021-10-19   \n",
       "33       BDI         Africa                   Burundi        2021-10-19   \n",
       "34       KHM           Asia                  Cambodia        2021-10-19   \n",
       "35       CMR         Africa                  Cameroon        2021-10-19   \n",
       "36       CAN  North America                    Canada        2021-10-19   \n",
       "37       CPV         Africa                Cape Verde        2021-10-19   \n",
       "38       CYM  North America            Cayman Islands        2021-10-14   \n",
       "39       CAF         Africa  Central African Republic        2021-10-19   \n",
       "40       TCD         Africa                      Chad        2021-10-19   \n",
       "41       CHL  South America                     Chile        2021-10-19   \n",
       "42       CHN           Asia                     China        2021-10-19   \n",
       "43       COL  South America                  Colombia        2021-10-19   \n",
       "44       COM         Africa                   Comoros        2021-10-19   \n",
       "45       COG         Africa                     Congo        2021-10-19   \n",
       "46       COK        Oceania              Cook Islands        2021-10-18   \n",
       "47       CRI  North America                Costa Rica        2021-10-19   \n",
       "48       CIV         Africa             Cote d'Ivoire        2021-10-19   \n",
       "49       HRV         Europe                   Croatia        2021-10-19   \n",
       "\n",
       "    total_cases  new_cases  new_cases_smoothed  total_deaths  new_deaths  \\\n",
       "0      155801.0       25.0              28.857        7247.0         1.0   \n",
       "1     8444411.0     6054.0            6225.429      215909.0       240.0   \n",
       "2      178804.0      616.0             448.571        2841.0        12.0   \n",
       "3      205453.0       89.0              94.714        5875.0         2.0   \n",
       "4       15369.0        2.0               8.857         130.0         0.0   \n",
       "5       63197.0      185.0             200.429        1678.0         8.0   \n",
       "6           NaN        NaN                 NaN           NaN         NaN   \n",
       "7        3918.0        0.0              20.857          95.0         0.0   \n",
       "8     5274766.0     1303.0            1061.000      115737.0        33.0   \n",
       "9      284237.0     1054.0            1482.429        5842.0        37.0   \n",
       "10          NaN        NaN                 NaN           NaN         NaN   \n",
       "11   78141449.0   112786.0          112291.429     1156573.0      1446.0   \n",
       "12     149398.0     2097.0            2279.143        1577.0        19.0   \n",
       "13     780269.0     2590.0            2334.429       11196.0        16.0   \n",
       "14     505554.0     2102.0            1641.000        6793.0        15.0   \n",
       "15      22048.0       70.0              66.857         626.0         0.0   \n",
       "16     276262.0       74.0              65.571        1392.0         1.0   \n",
       "17    1566296.0      469.0             399.286       27785.0         7.0   \n",
       "18      13553.0      382.0             297.000         120.0         1.0   \n",
       "19     575856.0     1913.0            2014.714        4432.0        15.0   \n",
       "20    1292887.0     3854.0            3412.143       25797.0        17.0   \n",
       "21      24768.0      321.0             368.714         466.0         1.0   \n",
       "22      24560.0        0.0              32.143         161.0         0.0   \n",
       "23          NaN        NaN                 NaN           NaN         NaN   \n",
       "24       2617.0        0.0               0.571           3.0         0.0   \n",
       "25     507134.0        0.0             361.857       18877.0        43.0   \n",
       "26     245791.0      709.0             549.286       11228.0        27.0   \n",
       "27     184051.0        0.0             400.000        2389.0         0.0   \n",
       "28   21664879.0    12969.0           10683.143      603855.0       390.0   \n",
       "29          NaN        NaN                 NaN           NaN         NaN   \n",
       "30      11220.0      173.0             249.714          77.0         1.0   \n",
       "31     550555.0     4957.0            3250.429       22612.0       124.0   \n",
       "32      14759.0        7.0              30.429         209.0         6.0   \n",
       "33      19745.0       15.0              58.714          38.0         0.0   \n",
       "34     117035.0      175.0             242.857        2681.0        11.0   \n",
       "35     100289.0     1887.0             698.571        1600.0        50.0   \n",
       "36    1695788.0     2424.0            2854.714       28657.0        41.0   \n",
       "37      38052.0        3.0              18.857         347.0         0.0   \n",
       "38          NaN        NaN                 NaN           NaN         NaN   \n",
       "39      11478.0        0.0              11.000         100.0         0.0   \n",
       "40       5069.0        0.0               1.143         174.0         0.0   \n",
       "41    1672998.0      933.0            1286.571       37623.0         3.0   \n",
       "42      96678.0       30.0              20.571        4636.0         0.0   \n",
       "43    4983527.0      952.0            1303.857      126910.0        24.0   \n",
       "44       4191.0        1.0               3.143         147.0         0.0   \n",
       "45      15962.0        0.0             101.000         231.0         0.0   \n",
       "46          NaN        NaN                 NaN           NaN         NaN   \n",
       "47     553661.0      708.0             821.000        6880.0        23.0   \n",
       "48      61089.0       17.0              30.143         685.0         0.0   \n",
       "49     429974.0     1741.0            1562.714        8928.0        21.0   \n",
       "\n",
       "    new_deaths_smoothed  ...  female_smokers  male_smokers  \\\n",
       "0                 2.429  ...             NaN           NaN   \n",
       "1               215.286  ...             NaN           NaN   \n",
       "2                 8.286  ...             7.1          51.2   \n",
       "3                 2.286  ...             0.7          30.4   \n",
       "4                 0.000  ...            29.0          37.8   \n",
       "5                 5.143  ...             NaN           NaN   \n",
       "6                   NaN  ...             NaN           NaN   \n",
       "7                 0.286  ...             NaN           NaN   \n",
       "8                27.143  ...            16.2          27.7   \n",
       "9                32.000  ...             1.5          52.1   \n",
       "10                  NaN  ...             NaN           NaN   \n",
       "11             1427.286  ...             NaN           NaN   \n",
       "12               14.143  ...            13.0          16.5   \n",
       "13               10.857  ...            28.4          30.9   \n",
       "14               14.429  ...             0.3          42.5   \n",
       "15                5.143  ...             3.1          20.4   \n",
       "16                0.286  ...             5.8          37.6   \n",
       "17               10.286  ...             1.0          44.7   \n",
       "18                2.714  ...             1.9          14.5   \n",
       "19               16.143  ...            10.5          46.1   \n",
       "20               12.000  ...            25.1          31.4   \n",
       "21                5.571  ...             NaN           NaN   \n",
       "22                0.286  ...             0.6          12.3   \n",
       "23                  NaN  ...             NaN           NaN   \n",
       "24                0.000  ...             NaN           NaN   \n",
       "25               10.143  ...             NaN           NaN   \n",
       "26               31.286  ...            30.2          47.7   \n",
       "27                1.143  ...             5.7          34.4   \n",
       "28              351.000  ...            10.1          17.9   \n",
       "29                  NaN  ...             NaN           NaN   \n",
       "30                1.857  ...             2.0          30.9   \n",
       "31              100.857  ...            30.1          44.4   \n",
       "32                1.286  ...             1.6          23.9   \n",
       "33                0.000  ...             NaN           NaN   \n",
       "34               19.571  ...             2.0          33.7   \n",
       "35               11.857  ...             NaN           NaN   \n",
       "36               44.857  ...            12.0          16.6   \n",
       "37                0.000  ...             2.1          16.5   \n",
       "38                  NaN  ...             NaN           NaN   \n",
       "39                0.000  ...             NaN           NaN   \n",
       "40                0.000  ...             NaN           NaN   \n",
       "41                7.000  ...            34.2          41.5   \n",
       "42                0.000  ...             1.9          48.4   \n",
       "43               31.143  ...             4.7          13.5   \n",
       "44                0.000  ...             4.4          23.6   \n",
       "45                1.714  ...             1.7          52.3   \n",
       "46                  NaN  ...             NaN           NaN   \n",
       "47               23.143  ...             6.4          17.4   \n",
       "48                1.857  ...             NaN           NaN   \n",
       "49               18.000  ...            34.3          39.9   \n",
       "\n",
       "    handwashing_facilities  hospital_beds_per_thousand  life_expectancy  \\\n",
       "0                   37.746                       0.500            64.83   \n",
       "1                      NaN                         NaN              NaN   \n",
       "2                      NaN                       2.890            78.57   \n",
       "3                   83.741                       1.900            76.88   \n",
       "4                      NaN                         NaN            83.73   \n",
       "5                   26.664                         NaN            61.15   \n",
       "6                      NaN                         NaN            81.88   \n",
       "7                      NaN                       3.800            77.02   \n",
       "8                      NaN                       5.000            76.67   \n",
       "9                   94.043                       4.200            75.09   \n",
       "10                     NaN                         NaN            76.29   \n",
       "11                     NaN                         NaN              NaN   \n",
       "12                     NaN                       3.840            83.44   \n",
       "13                     NaN                       7.370            81.54   \n",
       "14                  83.241                       4.700            73.00   \n",
       "15                     NaN                       2.900            73.92   \n",
       "16                     NaN                       2.000            77.29   \n",
       "17                  34.808                       0.800            72.59   \n",
       "18                  88.469                       5.800            79.19   \n",
       "19                     NaN                      11.000            74.79   \n",
       "20                     NaN                       5.640            81.63   \n",
       "21                  90.083                       1.300            74.62   \n",
       "22                  11.035                       0.500            61.77   \n",
       "23                     NaN                         NaN            82.59   \n",
       "24                  79.807                       1.700            71.78   \n",
       "25                  25.383                       1.100            71.51   \n",
       "26                  97.164                       3.500            77.40   \n",
       "27                     NaN                       1.800            69.59   \n",
       "28                     NaN                       2.200            75.88   \n",
       "29                     NaN                         NaN            79.07   \n",
       "30                     NaN                       2.700            75.86   \n",
       "31                     NaN                       7.454            75.05   \n",
       "32                  11.877                       0.400            61.58   \n",
       "33                   6.144                       0.800            61.58   \n",
       "34                  66.229                       0.800            69.82   \n",
       "35                   2.735                       1.300            59.29   \n",
       "36                     NaN                       2.500            82.43   \n",
       "37                     NaN                       2.100            72.98   \n",
       "38                     NaN                         NaN            83.92   \n",
       "39                  16.603                       1.000            53.28   \n",
       "40                   5.818                         NaN            54.24   \n",
       "41                     NaN                       2.110            80.18   \n",
       "42                     NaN                       4.340            76.91   \n",
       "43                  65.386                       1.710            77.29   \n",
       "44                  15.574                       2.200            64.32   \n",
       "45                  47.964                         NaN            64.57   \n",
       "46                     NaN                         NaN            76.25   \n",
       "47                  83.841                       1.130            80.28   \n",
       "48                  19.351                         NaN            57.78   \n",
       "49                     NaN                       5.540            78.49   \n",
       "\n",
       "    human_development_index  excess_mortality_cumulative_absolute  \\\n",
       "0                     0.511                                   NaN   \n",
       "1                       NaN                                   NaN   \n",
       "2                     0.795                                   NaN   \n",
       "3                     0.748                                   NaN   \n",
       "4                     0.868                                   NaN   \n",
       "5                     0.581                                   NaN   \n",
       "6                       NaN                                   NaN   \n",
       "7                     0.778                                   NaN   \n",
       "8                     0.845                                   NaN   \n",
       "9                     0.776                                   NaN   \n",
       "10                      NaN                                   NaN   \n",
       "11                      NaN                                   NaN   \n",
       "12                    0.944                                   NaN   \n",
       "13                    0.922                                   NaN   \n",
       "14                    0.756                                   NaN   \n",
       "15                    0.814                                   NaN   \n",
       "16                    0.852                                   NaN   \n",
       "17                    0.632                                   NaN   \n",
       "18                    0.814                                   NaN   \n",
       "19                    0.823                                   NaN   \n",
       "20                    0.931                                   NaN   \n",
       "21                    0.716                                   NaN   \n",
       "22                    0.545                                   NaN   \n",
       "23                      NaN                                   NaN   \n",
       "24                    0.654                                   NaN   \n",
       "25                    0.718                                   NaN   \n",
       "26                    0.780                                   NaN   \n",
       "27                    0.735                                   NaN   \n",
       "28                    0.765                                   NaN   \n",
       "29                      NaN                                   NaN   \n",
       "30                    0.838                                   NaN   \n",
       "31                    0.816                                   NaN   \n",
       "32                    0.452                                   NaN   \n",
       "33                    0.433                                   NaN   \n",
       "34                    0.594                                   NaN   \n",
       "35                    0.563                                   NaN   \n",
       "36                    0.929                                   NaN   \n",
       "37                    0.665                                   NaN   \n",
       "38                      NaN                                   NaN   \n",
       "39                    0.397                                   NaN   \n",
       "40                    0.398                                   NaN   \n",
       "41                    0.851                                   NaN   \n",
       "42                    0.761                                   NaN   \n",
       "43                    0.767                                   NaN   \n",
       "44                    0.554                                   NaN   \n",
       "45                    0.574                                   NaN   \n",
       "46                      NaN                                   NaN   \n",
       "47                    0.810                                   NaN   \n",
       "48                    0.538                                   NaN   \n",
       "49                    0.851                                   NaN   \n",
       "\n",
       "    excess_mortality_cumulative  excess_mortality  \\\n",
       "0                           NaN               NaN   \n",
       "1                           NaN               NaN   \n",
       "2                           NaN               NaN   \n",
       "3                           NaN               NaN   \n",
       "4                           NaN               NaN   \n",
       "5                           NaN               NaN   \n",
       "6                           NaN               NaN   \n",
       "7                           NaN               NaN   \n",
       "8                           NaN               NaN   \n",
       "9                           NaN               NaN   \n",
       "10                          NaN               NaN   \n",
       "11                          NaN               NaN   \n",
       "12                          NaN               NaN   \n",
       "13                          NaN               NaN   \n",
       "14                          NaN               NaN   \n",
       "15                          NaN               NaN   \n",
       "16                          NaN               NaN   \n",
       "17                          NaN               NaN   \n",
       "18                          NaN               NaN   \n",
       "19                          NaN               NaN   \n",
       "20                          NaN               NaN   \n",
       "21                          NaN               NaN   \n",
       "22                          NaN               NaN   \n",
       "23                          NaN               NaN   \n",
       "24                          NaN               NaN   \n",
       "25                          NaN               NaN   \n",
       "26                          NaN               NaN   \n",
       "27                          NaN               NaN   \n",
       "28                          NaN               NaN   \n",
       "29                          NaN               NaN   \n",
       "30                          NaN               NaN   \n",
       "31                          NaN               NaN   \n",
       "32                          NaN               NaN   \n",
       "33                          NaN               NaN   \n",
       "34                          NaN               NaN   \n",
       "35                          NaN               NaN   \n",
       "36                          NaN               NaN   \n",
       "37                          NaN               NaN   \n",
       "38                          NaN               NaN   \n",
       "39                          NaN               NaN   \n",
       "40                          NaN               NaN   \n",
       "41                          NaN               NaN   \n",
       "42                          NaN               NaN   \n",
       "43                          NaN               NaN   \n",
       "44                          NaN               NaN   \n",
       "45                          NaN               NaN   \n",
       "46                          NaN               NaN   \n",
       "47                          NaN               NaN   \n",
       "48                          NaN               NaN   \n",
       "49                          NaN               NaN   \n",
       "\n",
       "    excess_mortality_cumulative_per_million  \n",
       "0                                       NaN  \n",
       "1                                       NaN  \n",
       "2                                       NaN  \n",
       "3                                       NaN  \n",
       "4                                       NaN  \n",
       "5                                       NaN  \n",
       "6                                       NaN  \n",
       "7                                       NaN  \n",
       "8                                       NaN  \n",
       "9                                       NaN  \n",
       "10                                      NaN  \n",
       "11                                      NaN  \n",
       "12                                      NaN  \n",
       "13                                      NaN  \n",
       "14                                      NaN  \n",
       "15                                      NaN  \n",
       "16                                      NaN  \n",
       "17                                      NaN  \n",
       "18                                      NaN  \n",
       "19                                      NaN  \n",
       "20                                      NaN  \n",
       "21                                      NaN  \n",
       "22                                      NaN  \n",
       "23                                      NaN  \n",
       "24                                      NaN  \n",
       "25                                      NaN  \n",
       "26                                      NaN  \n",
       "27                                      NaN  \n",
       "28                                      NaN  \n",
       "29                                      NaN  \n",
       "30                                      NaN  \n",
       "31                                      NaN  \n",
       "32                                      NaN  \n",
       "33                                      NaN  \n",
       "34                                      NaN  \n",
       "35                                      NaN  \n",
       "36                                      NaN  \n",
       "37                                      NaN  \n",
       "38                                      NaN  \n",
       "39                                      NaN  \n",
       "40                                      NaN  \n",
       "41                                      NaN  \n",
       "42                                      NaN  \n",
       "43                                      NaN  \n",
       "44                                      NaN  \n",
       "45                                      NaN  \n",
       "46                                      NaN  \n",
       "47                                      NaN  \n",
       "48                                      NaN  \n",
       "49                                      NaN  \n",
       "\n",
       "[50 rows x 65 columns]"
      ]
     },
     "execution_count": 5,
     "metadata": {},
     "output_type": "execute_result"
    }
   ],
   "source": [
    "data1 = data.head(50)\n",
    "data1"
   ]
  },
  {
   "cell_type": "code",
   "execution_count": 16,
   "id": "7b0286f5",
   "metadata": {},
   "outputs": [
    {
     "data": {
      "text/html": [
       "<div>\n",
       "<style scoped>\n",
       "    .dataframe tbody tr th:only-of-type {\n",
       "        vertical-align: middle;\n",
       "    }\n",
       "\n",
       "    .dataframe tbody tr th {\n",
       "        vertical-align: top;\n",
       "    }\n",
       "\n",
       "    .dataframe thead th {\n",
       "        text-align: right;\n",
       "    }\n",
       "</style>\n",
       "<table border=\"1\" class=\"dataframe\">\n",
       "  <thead>\n",
       "    <tr style=\"text-align: right;\">\n",
       "      <th></th>\n",
       "      <th>total_cases</th>\n",
       "      <th>new_cases</th>\n",
       "      <th>new_cases_smoothed</th>\n",
       "      <th>total_deaths</th>\n",
       "      <th>new_deaths</th>\n",
       "    </tr>\n",
       "  </thead>\n",
       "  <tbody>\n",
       "    <tr>\n",
       "      <th>0</th>\n",
       "      <td>155801.0</td>\n",
       "      <td>25.0</td>\n",
       "      <td>28.857</td>\n",
       "      <td>7247.0</td>\n",
       "      <td>1.0</td>\n",
       "    </tr>\n",
       "    <tr>\n",
       "      <th>1</th>\n",
       "      <td>8444411.0</td>\n",
       "      <td>6054.0</td>\n",
       "      <td>6225.429</td>\n",
       "      <td>215909.0</td>\n",
       "      <td>240.0</td>\n",
       "    </tr>\n",
       "    <tr>\n",
       "      <th>2</th>\n",
       "      <td>178804.0</td>\n",
       "      <td>616.0</td>\n",
       "      <td>448.571</td>\n",
       "      <td>2841.0</td>\n",
       "      <td>12.0</td>\n",
       "    </tr>\n",
       "    <tr>\n",
       "      <th>3</th>\n",
       "      <td>205453.0</td>\n",
       "      <td>89.0</td>\n",
       "      <td>94.714</td>\n",
       "      <td>5875.0</td>\n",
       "      <td>2.0</td>\n",
       "    </tr>\n",
       "    <tr>\n",
       "      <th>4</th>\n",
       "      <td>15369.0</td>\n",
       "      <td>2.0</td>\n",
       "      <td>8.857</td>\n",
       "      <td>130.0</td>\n",
       "      <td>0.0</td>\n",
       "    </tr>\n",
       "    <tr>\n",
       "      <th>5</th>\n",
       "      <td>63197.0</td>\n",
       "      <td>185.0</td>\n",
       "      <td>200.429</td>\n",
       "      <td>1678.0</td>\n",
       "      <td>8.0</td>\n",
       "    </tr>\n",
       "    <tr>\n",
       "      <th>7</th>\n",
       "      <td>3918.0</td>\n",
       "      <td>0.0</td>\n",
       "      <td>20.857</td>\n",
       "      <td>95.0</td>\n",
       "      <td>0.0</td>\n",
       "    </tr>\n",
       "    <tr>\n",
       "      <th>8</th>\n",
       "      <td>5274766.0</td>\n",
       "      <td>1303.0</td>\n",
       "      <td>1061.000</td>\n",
       "      <td>115737.0</td>\n",
       "      <td>33.0</td>\n",
       "    </tr>\n",
       "    <tr>\n",
       "      <th>9</th>\n",
       "      <td>284237.0</td>\n",
       "      <td>1054.0</td>\n",
       "      <td>1482.429</td>\n",
       "      <td>5842.0</td>\n",
       "      <td>37.0</td>\n",
       "    </tr>\n",
       "    <tr>\n",
       "      <th>11</th>\n",
       "      <td>78141449.0</td>\n",
       "      <td>112786.0</td>\n",
       "      <td>112291.429</td>\n",
       "      <td>1156573.0</td>\n",
       "      <td>1446.0</td>\n",
       "    </tr>\n",
       "    <tr>\n",
       "      <th>12</th>\n",
       "      <td>149398.0</td>\n",
       "      <td>2097.0</td>\n",
       "      <td>2279.143</td>\n",
       "      <td>1577.0</td>\n",
       "      <td>19.0</td>\n",
       "    </tr>\n",
       "    <tr>\n",
       "      <th>13</th>\n",
       "      <td>780269.0</td>\n",
       "      <td>2590.0</td>\n",
       "      <td>2334.429</td>\n",
       "      <td>11196.0</td>\n",
       "      <td>16.0</td>\n",
       "    </tr>\n",
       "    <tr>\n",
       "      <th>14</th>\n",
       "      <td>505554.0</td>\n",
       "      <td>2102.0</td>\n",
       "      <td>1641.000</td>\n",
       "      <td>6793.0</td>\n",
       "      <td>15.0</td>\n",
       "    </tr>\n",
       "    <tr>\n",
       "      <th>15</th>\n",
       "      <td>22048.0</td>\n",
       "      <td>70.0</td>\n",
       "      <td>66.857</td>\n",
       "      <td>626.0</td>\n",
       "      <td>0.0</td>\n",
       "    </tr>\n",
       "    <tr>\n",
       "      <th>16</th>\n",
       "      <td>276262.0</td>\n",
       "      <td>74.0</td>\n",
       "      <td>65.571</td>\n",
       "      <td>1392.0</td>\n",
       "      <td>1.0</td>\n",
       "    </tr>\n",
       "    <tr>\n",
       "      <th>17</th>\n",
       "      <td>1566296.0</td>\n",
       "      <td>469.0</td>\n",
       "      <td>399.286</td>\n",
       "      <td>27785.0</td>\n",
       "      <td>7.0</td>\n",
       "    </tr>\n",
       "    <tr>\n",
       "      <th>18</th>\n",
       "      <td>13553.0</td>\n",
       "      <td>382.0</td>\n",
       "      <td>297.000</td>\n",
       "      <td>120.0</td>\n",
       "      <td>1.0</td>\n",
       "    </tr>\n",
       "    <tr>\n",
       "      <th>19</th>\n",
       "      <td>575856.0</td>\n",
       "      <td>1913.0</td>\n",
       "      <td>2014.714</td>\n",
       "      <td>4432.0</td>\n",
       "      <td>15.0</td>\n",
       "    </tr>\n",
       "    <tr>\n",
       "      <th>20</th>\n",
       "      <td>1292887.0</td>\n",
       "      <td>3854.0</td>\n",
       "      <td>3412.143</td>\n",
       "      <td>25797.0</td>\n",
       "      <td>17.0</td>\n",
       "    </tr>\n",
       "    <tr>\n",
       "      <th>21</th>\n",
       "      <td>24768.0</td>\n",
       "      <td>321.0</td>\n",
       "      <td>368.714</td>\n",
       "      <td>466.0</td>\n",
       "      <td>1.0</td>\n",
       "    </tr>\n",
       "    <tr>\n",
       "      <th>22</th>\n",
       "      <td>24560.0</td>\n",
       "      <td>0.0</td>\n",
       "      <td>32.143</td>\n",
       "      <td>161.0</td>\n",
       "      <td>0.0</td>\n",
       "    </tr>\n",
       "    <tr>\n",
       "      <th>24</th>\n",
       "      <td>2617.0</td>\n",
       "      <td>0.0</td>\n",
       "      <td>0.571</td>\n",
       "      <td>3.0</td>\n",
       "      <td>0.0</td>\n",
       "    </tr>\n",
       "    <tr>\n",
       "      <th>25</th>\n",
       "      <td>507134.0</td>\n",
       "      <td>0.0</td>\n",
       "      <td>361.857</td>\n",
       "      <td>18877.0</td>\n",
       "      <td>43.0</td>\n",
       "    </tr>\n",
       "    <tr>\n",
       "      <th>26</th>\n",
       "      <td>245791.0</td>\n",
       "      <td>709.0</td>\n",
       "      <td>549.286</td>\n",
       "      <td>11228.0</td>\n",
       "      <td>27.0</td>\n",
       "    </tr>\n",
       "    <tr>\n",
       "      <th>27</th>\n",
       "      <td>184051.0</td>\n",
       "      <td>0.0</td>\n",
       "      <td>400.000</td>\n",
       "      <td>2389.0</td>\n",
       "      <td>0.0</td>\n",
       "    </tr>\n",
       "    <tr>\n",
       "      <th>28</th>\n",
       "      <td>21664879.0</td>\n",
       "      <td>12969.0</td>\n",
       "      <td>10683.143</td>\n",
       "      <td>603855.0</td>\n",
       "      <td>390.0</td>\n",
       "    </tr>\n",
       "    <tr>\n",
       "      <th>30</th>\n",
       "      <td>11220.0</td>\n",
       "      <td>173.0</td>\n",
       "      <td>249.714</td>\n",
       "      <td>77.0</td>\n",
       "      <td>1.0</td>\n",
       "    </tr>\n",
       "    <tr>\n",
       "      <th>31</th>\n",
       "      <td>550555.0</td>\n",
       "      <td>4957.0</td>\n",
       "      <td>3250.429</td>\n",
       "      <td>22612.0</td>\n",
       "      <td>124.0</td>\n",
       "    </tr>\n",
       "    <tr>\n",
       "      <th>32</th>\n",
       "      <td>14759.0</td>\n",
       "      <td>7.0</td>\n",
       "      <td>30.429</td>\n",
       "      <td>209.0</td>\n",
       "      <td>6.0</td>\n",
       "    </tr>\n",
       "    <tr>\n",
       "      <th>33</th>\n",
       "      <td>19745.0</td>\n",
       "      <td>15.0</td>\n",
       "      <td>58.714</td>\n",
       "      <td>38.0</td>\n",
       "      <td>0.0</td>\n",
       "    </tr>\n",
       "    <tr>\n",
       "      <th>34</th>\n",
       "      <td>117035.0</td>\n",
       "      <td>175.0</td>\n",
       "      <td>242.857</td>\n",
       "      <td>2681.0</td>\n",
       "      <td>11.0</td>\n",
       "    </tr>\n",
       "    <tr>\n",
       "      <th>35</th>\n",
       "      <td>100289.0</td>\n",
       "      <td>1887.0</td>\n",
       "      <td>698.571</td>\n",
       "      <td>1600.0</td>\n",
       "      <td>50.0</td>\n",
       "    </tr>\n",
       "    <tr>\n",
       "      <th>36</th>\n",
       "      <td>1695788.0</td>\n",
       "      <td>2424.0</td>\n",
       "      <td>2854.714</td>\n",
       "      <td>28657.0</td>\n",
       "      <td>41.0</td>\n",
       "    </tr>\n",
       "    <tr>\n",
       "      <th>37</th>\n",
       "      <td>38052.0</td>\n",
       "      <td>3.0</td>\n",
       "      <td>18.857</td>\n",
       "      <td>347.0</td>\n",
       "      <td>0.0</td>\n",
       "    </tr>\n",
       "    <tr>\n",
       "      <th>39</th>\n",
       "      <td>11478.0</td>\n",
       "      <td>0.0</td>\n",
       "      <td>11.000</td>\n",
       "      <td>100.0</td>\n",
       "      <td>0.0</td>\n",
       "    </tr>\n",
       "    <tr>\n",
       "      <th>40</th>\n",
       "      <td>5069.0</td>\n",
       "      <td>0.0</td>\n",
       "      <td>1.143</td>\n",
       "      <td>174.0</td>\n",
       "      <td>0.0</td>\n",
       "    </tr>\n",
       "    <tr>\n",
       "      <th>41</th>\n",
       "      <td>1672998.0</td>\n",
       "      <td>933.0</td>\n",
       "      <td>1286.571</td>\n",
       "      <td>37623.0</td>\n",
       "      <td>3.0</td>\n",
       "    </tr>\n",
       "    <tr>\n",
       "      <th>42</th>\n",
       "      <td>96678.0</td>\n",
       "      <td>30.0</td>\n",
       "      <td>20.571</td>\n",
       "      <td>4636.0</td>\n",
       "      <td>0.0</td>\n",
       "    </tr>\n",
       "    <tr>\n",
       "      <th>43</th>\n",
       "      <td>4983527.0</td>\n",
       "      <td>952.0</td>\n",
       "      <td>1303.857</td>\n",
       "      <td>126910.0</td>\n",
       "      <td>24.0</td>\n",
       "    </tr>\n",
       "    <tr>\n",
       "      <th>44</th>\n",
       "      <td>4191.0</td>\n",
       "      <td>1.0</td>\n",
       "      <td>3.143</td>\n",
       "      <td>147.0</td>\n",
       "      <td>0.0</td>\n",
       "    </tr>\n",
       "    <tr>\n",
       "      <th>45</th>\n",
       "      <td>15962.0</td>\n",
       "      <td>0.0</td>\n",
       "      <td>101.000</td>\n",
       "      <td>231.0</td>\n",
       "      <td>0.0</td>\n",
       "    </tr>\n",
       "    <tr>\n",
       "      <th>47</th>\n",
       "      <td>553661.0</td>\n",
       "      <td>708.0</td>\n",
       "      <td>821.000</td>\n",
       "      <td>6880.0</td>\n",
       "      <td>23.0</td>\n",
       "    </tr>\n",
       "    <tr>\n",
       "      <th>48</th>\n",
       "      <td>61089.0</td>\n",
       "      <td>17.0</td>\n",
       "      <td>30.143</td>\n",
       "      <td>685.0</td>\n",
       "      <td>0.0</td>\n",
       "    </tr>\n",
       "    <tr>\n",
       "      <th>49</th>\n",
       "      <td>429974.0</td>\n",
       "      <td>1741.0</td>\n",
       "      <td>1562.714</td>\n",
       "      <td>8928.0</td>\n",
       "      <td>21.0</td>\n",
       "    </tr>\n",
       "  </tbody>\n",
       "</table>\n",
       "</div>"
      ],
      "text/plain": [
       "    total_cases  new_cases  new_cases_smoothed  total_deaths  new_deaths\n",
       "0      155801.0       25.0              28.857        7247.0         1.0\n",
       "1     8444411.0     6054.0            6225.429      215909.0       240.0\n",
       "2      178804.0      616.0             448.571        2841.0        12.0\n",
       "3      205453.0       89.0              94.714        5875.0         2.0\n",
       "4       15369.0        2.0               8.857         130.0         0.0\n",
       "5       63197.0      185.0             200.429        1678.0         8.0\n",
       "7        3918.0        0.0              20.857          95.0         0.0\n",
       "8     5274766.0     1303.0            1061.000      115737.0        33.0\n",
       "9      284237.0     1054.0            1482.429        5842.0        37.0\n",
       "11   78141449.0   112786.0          112291.429     1156573.0      1446.0\n",
       "12     149398.0     2097.0            2279.143        1577.0        19.0\n",
       "13     780269.0     2590.0            2334.429       11196.0        16.0\n",
       "14     505554.0     2102.0            1641.000        6793.0        15.0\n",
       "15      22048.0       70.0              66.857         626.0         0.0\n",
       "16     276262.0       74.0              65.571        1392.0         1.0\n",
       "17    1566296.0      469.0             399.286       27785.0         7.0\n",
       "18      13553.0      382.0             297.000         120.0         1.0\n",
       "19     575856.0     1913.0            2014.714        4432.0        15.0\n",
       "20    1292887.0     3854.0            3412.143       25797.0        17.0\n",
       "21      24768.0      321.0             368.714         466.0         1.0\n",
       "22      24560.0        0.0              32.143         161.0         0.0\n",
       "24       2617.0        0.0               0.571           3.0         0.0\n",
       "25     507134.0        0.0             361.857       18877.0        43.0\n",
       "26     245791.0      709.0             549.286       11228.0        27.0\n",
       "27     184051.0        0.0             400.000        2389.0         0.0\n",
       "28   21664879.0    12969.0           10683.143      603855.0       390.0\n",
       "30      11220.0      173.0             249.714          77.0         1.0\n",
       "31     550555.0     4957.0            3250.429       22612.0       124.0\n",
       "32      14759.0        7.0              30.429         209.0         6.0\n",
       "33      19745.0       15.0              58.714          38.0         0.0\n",
       "34     117035.0      175.0             242.857        2681.0        11.0\n",
       "35     100289.0     1887.0             698.571        1600.0        50.0\n",
       "36    1695788.0     2424.0            2854.714       28657.0        41.0\n",
       "37      38052.0        3.0              18.857         347.0         0.0\n",
       "39      11478.0        0.0              11.000         100.0         0.0\n",
       "40       5069.0        0.0               1.143         174.0         0.0\n",
       "41    1672998.0      933.0            1286.571       37623.0         3.0\n",
       "42      96678.0       30.0              20.571        4636.0         0.0\n",
       "43    4983527.0      952.0            1303.857      126910.0        24.0\n",
       "44       4191.0        1.0               3.143         147.0         0.0\n",
       "45      15962.0        0.0             101.000         231.0         0.0\n",
       "47     553661.0      708.0             821.000        6880.0        23.0\n",
       "48      61089.0       17.0              30.143         685.0         0.0\n",
       "49     429974.0     1741.0            1562.714        8928.0        21.0"
      ]
     },
     "execution_count": 16,
     "metadata": {},
     "output_type": "execute_result"
    }
   ],
   "source": [
    "data2 = data1[['total_cases','new_cases','new_cases_smoothed','total_deaths','new_deaths']].dropna()\n",
    "data2"
   ]
  },
  {
   "cell_type": "code",
   "execution_count": 24,
   "id": "95f4ddcb",
   "metadata": {},
   "outputs": [
    {
     "data": {
      "image/png": "[encoded data removed]",
      "text/plain": [
       "<Figure size 360x360 with 1 Axes>"
      ]
     },
     "metadata": {
      "needs_background": "light"
     },
     "output_type": "display_data"
    }
   ],
   "source": [
    "import seaborn as sns\n",
    "import matplotlib.pyplot as plt\n",
    "sns.relplot(x=\"total_cases\", y=\"new_cases\", data = data2)\n",
    "plt.show()"
   ]
  },
  {
   "cell_type": "code",
   "execution_count": 26,
   "id": "2decd90a",
   "metadata": {},
   "outputs": [
    {
     "data": {
      "image/png": "[encoded data removed]",
      "text/plain": [
       "<Figure size 360x360 with 1 Axes>"
      ]
     },
     "metadata": {
      "needs_background": "light"
     },
     "output_type": "display_data"
    }
   ],
   "source": [
    "sns.relplot(x=\"total_cases\", y=\"new_cases_smoothed\", data = data2)\n",
    "plt.show()"
   ]
  },
  {
   "cell_type": "markdown",
   "id": "dd1b91fc",
   "metadata": {},
   "source": [
    "### <font color=darkred>**SNS.relplot using Seaborn**\n",
    "SNS.relplot is the relplot function from SNS class, which is a seaborn class that we imported above with other dependencies.\n",
    "\n",
    "The parameters – x, y, and data – represent the variables on X-axis, Y-axis and the data we are using to plot respectively. "
   ]
  },
  {
   "cell_type": "code",
   "execution_count": 30,
   "id": "831c0740",
   "metadata": {},
   "outputs": [
    {
     "data": {
      "text/plain": [
       "<seaborn.axisgrid.FacetGrid at 0x23b7a543c10>"
      ]
     },
     "execution_count": 30,
     "metadata": {},
     "output_type": "execute_result"
    },
    {
     "data": {
      "image/png": "[encoded data removed]",
      "text/plain": [
       "<Figure size 433.625x360 with 1 Axes>"
      ]
     },
     "metadata": {
      "needs_background": "light"
     },
     "output_type": "display_data"
    }
   ],
   "source": [
    "sns.relplot(x= \"total_cases\", y= \"new_cases_smoothed\", hue = \"new_cases\", data = data2 )"
   ]
  },
  {
   "cell_type": "code",
   "execution_count": 28,
   "id": "3882e312",
   "metadata": {},
   "outputs": [
    {
     "data": {
      "text/html": [
       "<div>\n",
       "<style scoped>\n",
       "    .dataframe tbody tr th:only-of-type {\n",
       "        vertical-align: middle;\n",
       "    }\n",
       "\n",
       "    .dataframe tbody tr th {\n",
       "        vertical-align: top;\n",
       "    }\n",
       "\n",
       "    .dataframe thead th {\n",
       "        text-align: right;\n",
       "    }\n",
       "</style>\n",
       "<table border=\"1\" class=\"dataframe\">\n",
       "  <thead>\n",
       "    <tr style=\"text-align: right;\">\n",
       "      <th></th>\n",
       "      <th>total_cases</th>\n",
       "      <th>new_cases</th>\n",
       "      <th>new_cases_smoothed</th>\n",
       "      <th>total_deaths</th>\n",
       "      <th>new_deaths</th>\n",
       "    </tr>\n",
       "  </thead>\n",
       "  <tbody>\n",
       "    <tr>\n",
       "      <th>0</th>\n",
       "      <td>155801.0</td>\n",
       "      <td>25.0</td>\n",
       "      <td>28.857</td>\n",
       "      <td>7247.0</td>\n",
       "      <td>1.0</td>\n",
       "    </tr>\n",
       "    <tr>\n",
       "      <th>16</th>\n",
       "      <td>276262.0</td>\n",
       "      <td>74.0</td>\n",
       "      <td>65.571</td>\n",
       "      <td>1392.0</td>\n",
       "      <td>1.0</td>\n",
       "    </tr>\n",
       "    <tr>\n",
       "      <th>18</th>\n",
       "      <td>13553.0</td>\n",
       "      <td>382.0</td>\n",
       "      <td>297.000</td>\n",
       "      <td>120.0</td>\n",
       "      <td>1.0</td>\n",
       "    </tr>\n",
       "    <tr>\n",
       "      <th>21</th>\n",
       "      <td>24768.0</td>\n",
       "      <td>321.0</td>\n",
       "      <td>368.714</td>\n",
       "      <td>466.0</td>\n",
       "      <td>1.0</td>\n",
       "    </tr>\n",
       "    <tr>\n",
       "      <th>30</th>\n",
       "      <td>11220.0</td>\n",
       "      <td>173.0</td>\n",
       "      <td>249.714</td>\n",
       "      <td>77.0</td>\n",
       "      <td>1.0</td>\n",
       "    </tr>\n",
       "  </tbody>\n",
       "</table>\n",
       "</div>"
      ],
      "text/plain": [
       "    total_cases  new_cases  new_cases_smoothed  total_deaths  new_deaths\n",
       "0      155801.0       25.0              28.857        7247.0         1.0\n",
       "16     276262.0       74.0              65.571        1392.0         1.0\n",
       "18      13553.0      382.0             297.000         120.0         1.0\n",
       "21      24768.0      321.0             368.714         466.0         1.0\n",
       "30      11220.0      173.0             249.714          77.0         1.0"
      ]
     },
     "execution_count": 28,
     "metadata": {},
     "output_type": "execute_result"
    }
   ],
   "source": [
    "data2.query('new_deaths==1.0')"
   ]
  },
  {
   "cell_type": "markdown",
   "id": "9bc3830c",
   "metadata": {},
   "source": [
    "### <font color=darkred>**Hue Plot**\n",
    "We can add another dimension in our plot with the help of hue as it gives color to the points and each color has some meaning attached to it.\n",
    "\n",
    "In the above plot, the hue semantic is categorical. That’s why it has a different color palette. If the hue semantic is numeric, then the coloring becomes sequential."
   ]
  },
  {
   "cell_type": "code",
   "execution_count": 29,
   "id": "4cc0ae4b",
   "metadata": {},
   "outputs": [
    {
     "data": {
      "text/plain": [
       "<seaborn.axisgrid.FacetGrid at 0x23b7a53a6a0>"
      ]
     },
     "execution_count": 29,
     "metadata": {},
     "output_type": "execute_result"
    },
    {
     "data": {
      "image/png": "[encoded data removed]",
      "text/plain": [
       "<Figure size 429.875x360 with 1 Axes>"
      ]
     },
     "metadata": {
      "needs_background": "light"
     },
     "output_type": "display_data"
    }
   ],
   "source": [
    "sns.relplot(x=\"total_cases\", y=\"new_cases_smoothed\", hue = \"total_deaths\", data = data2)"
   ]
  },
  {
   "cell_type": "markdown",
   "id": "c4054242",
   "metadata": {},
   "source": [
    "#### We can also change the size of each point:"
   ]
  },
  {
   "cell_type": "code",
   "execution_count": null,
   "id": "046d08c6",
   "metadata": {},
   "outputs": [],
   "source": [
    "sns.relplot(x=\"Views\", y=\"Upvotes\", size = \"Tag\", data = df);"
   ]
  },
  {
   "cell_type": "code",
   "execution_count": 32,
   "id": "a1bfc8e5",
   "metadata": {},
   "outputs": [
    {
     "data": {
      "image/png": "[encoded data removed]",
      "text/plain": [
       "<Figure size 433.625x360 with 1 Axes>"
      ]
     },
     "metadata": {
      "needs_background": "light"
     },
     "output_type": "display_data"
    }
   ],
   "source": [
    "sns.relplot(x= \"total_cases\", y= \"new_cases_smoothed\", size = \"new_cases\", data = data2 )\n",
    "plt.show()"
   ]
  },
  {
   "cell_type": "markdown",
   "id": "8603f4ee",
   "metadata": {},
   "source": [
    "### <font color =darkred>**Plotting Categorical Data**\n",
    "    Jitter\n",
    "    Hue\n",
    "    Boxplot\n",
    "    Voilin Plot\n",
    "    Pointplot\n",
    "In the above section, we saw how we can use different visual representations to show the relationship between multiple variables. We drew the plots between two numeric variables. In this section, we’ll see the relationship between two variables of which one would be categorical (divided into different groups)."
   ]
  },
  {
   "cell_type": "markdown",
   "id": "18e976b6",
   "metadata": {},
   "source": [
    "## <font color=magneta> **1.Jitter Plot**"
   ]
  },
  {
   "cell_type": "code",
   "execution_count": null,
   "id": "b7b73780",
   "metadata": {},
   "outputs": [],
   "source": [
    "sns.catplot(x=\"education\", y=\"avg_training_score\", data=df2)"
   ]
  },
  {
   "cell_type": "markdown",
   "id": "bd08d788",
   "metadata": {},
   "source": [
    "### <font color=darkred> **Distplots**"
   ]
  },
  {
   "cell_type": "markdown",
   "id": "7cbaa943",
   "metadata": {},
   "source": [
    "#### Distplot stands for distribution plot, it takes as input an array and plots a curve corresponding to the distribution of points in the array."
   ]
  },
  {
   "cell_type": "markdown",
   "id": "91e46595",
   "metadata": {},
   "source": [
    "### <font color=darkred> **Plotting a Displot**"
   ]
  },
  {
   "cell_type": "code",
   "execution_count": 1,
   "id": "606de24a",
   "metadata": {},
   "outputs": [],
   "source": [
    "import matplotlib.pyplot as plt\n",
    "import seaborn as sns"
   ]
  },
  {
   "cell_type": "code",
   "execution_count": 2,
   "id": "e72d3532",
   "metadata": {},
   "outputs": [
    {
     "name": "stderr",
     "output_type": "stream",
     "text": [
      "c:\\users\\cad_23\\appdata\\local\\programs\\python\\python39\\lib\\site-packages\\seaborn\\distributions.py:2619: FutureWarning: `distplot` is a deprecated function and will be removed in a future version. Please adapt your code to use either `displot` (a figure-level function with similar flexibility) or `histplot` (an axes-level function for histograms).\n",
      "  warnings.warn(msg, FutureWarning)\n"
     ]
    },
    {
     "data": {
      "image/png": "[encoded data removed]",
      "text/plain": [
       "<Figure size 432x288 with 1 Axes>"
      ]
     },
     "metadata": {
      "needs_background": "light"
     },
     "output_type": "display_data"
    }
   ],
   "source": [
    "sns.distplot([0, 1, 2, 3, 4, 5])\n",
    "\n",
    "plt.show()"
   ]
  },
  {
   "cell_type": "markdown",
   "id": "65c79ac3",
   "metadata": {},
   "source": [
    "### <font color=darkred> **Plotting a Distplot Without the Histogram**"
   ]
  },
  {
   "cell_type": "code",
   "execution_count": 3,
   "id": "4c7ddc15",
   "metadata": {},
   "outputs": [
    {
     "name": "stderr",
     "output_type": "stream",
     "text": [
      "c:\\users\\cad_23\\appdata\\local\\programs\\python\\python39\\lib\\site-packages\\seaborn\\distributions.py:2619: FutureWarning: `distplot` is a deprecated function and will be removed in a future version. Please adapt your code to use either `displot` (a figure-level function with similar flexibility) or `kdeplot` (an axes-level function for kernel density plots).\n",
      "  warnings.warn(msg, FutureWarning)\n"
     ]
    },
    {
     "data": {
      "image/png": "[encoded data removed]",
      "text/plain": [
       "<Figure size 432x288 with 1 Axes>"
      ]
     },
     "metadata": {
      "needs_background": "light"
     },
     "output_type": "display_data"
    }
   ],
   "source": [
    "sns.distplot([0,1,2,3,4,5],hist = False)\n",
    "plt.show()"
   ]
  },
  {
   "cell_type": "markdown",
   "id": "827f143d",
   "metadata": {},
   "source": [
    "#### *Note: We will be using: sns.distplot(arr, hist=False) to visualize random distributions in this tutorial*."
   ]
  },
  {
   "cell_type": "markdown",
   "id": "1f182e12",
   "metadata": {},
   "source": [
    "#### <font color=red> *Example:Generate a random normal distribution of size 2x3 with mean at 1 and standard deviation of 2*"
   ]
  },
  {
   "cell_type": "code",
   "execution_count": 12,
   "id": "aab66e99",
   "metadata": {},
   "outputs": [
    {
     "data": {
      "text/plain": [
       "array([[ 1.95454143, -0.92642202,  0.92023782],\n",
       "       [ 1.38750914,  5.68567371, -0.58771506]])"
      ]
     },
     "execution_count": 12,
     "metadata": {},
     "output_type": "execute_result"
    }
   ],
   "source": [
    "import numpy as np\n",
    "x = np.random.normal(loc = 1, scale = 2, size = (2,3))\n",
    "x"
   ]
  },
  {
   "cell_type": "markdown",
   "id": "99744ef0",
   "metadata": {},
   "source": [
    "### <font color=darkred> **Visualization of Normal Distribution**"
   ]
  },
  {
   "cell_type": "code",
   "execution_count": 13,
   "id": "95c9bc6a",
   "metadata": {},
   "outputs": [
    {
     "name": "stderr",
     "output_type": "stream",
     "text": [
      "c:\\users\\cad_23\\appdata\\local\\programs\\python\\python39\\lib\\site-packages\\seaborn\\distributions.py:2619: FutureWarning: `distplot` is a deprecated function and will be removed in a future version. Please adapt your code to use either `displot` (a figure-level function with similar flexibility) or `kdeplot` (an axes-level function for kernel density plots).\n",
      "  warnings.warn(msg, FutureWarning)\n"
     ]
    },
    {
     "data": {
      "image/png": "[encoded data removed]",
      "text/plain": [
       "<Figure size 432x288 with 1 Axes>"
      ]
     },
     "metadata": {
      "needs_background": "light"
     },
     "output_type": "display_data"
    }
   ],
   "source": [
    "sns.distplot(np.random.normal(size = 1000), hist = False)\n",
    "plt.show()"
   ]
  },
  {
   "cell_type": "markdown",
   "id": "ff5e8f10",
   "metadata": {},
   "source": [
    "### <font color=darkred> **Binomial Distribution**"
   ]
  },
  {
   "cell_type": "markdown",
   "id": "82a2caa5",
   "metadata": {},
   "source": [
    "#### Binomial Distribution is a Discrete Distribution.\n",
    "\n",
    "    It describes the outcome of binary scenarios, e.g. toss of a coin, it will either be head or tails.\n",
    "\n",
    "    It has three parameters:\n",
    "\n",
    "    n - number of trials.\n",
    "\n",
    "    p - probability of occurence of each trial (e.g. for toss of a coin 0.5 each).\n",
    "\n",
    "    size - The shape of the returned array."
   ]
  },
  {
   "cell_type": "markdown",
   "id": "f2e0b22e",
   "metadata": {},
   "source": [
    "#### <font color=red> *Example:Given 10 trials for coin toss generate 10 data points:*"
   ]
  },
  {
   "cell_type": "code",
   "execution_count": 19,
   "id": "963b7806",
   "metadata": {},
   "outputs": [
    {
     "data": {
      "text/plain": [
       "array([8, 8, 6, 2, 8, 6, 4, 5, 4, 3, 6, 3, 4, 5, 4, 7, 5, 7, 4, 4, 6, 3,\n",
       "       5, 5, 5, 5, 9, 5, 6, 5, 6, 5, 3, 6, 2, 5, 7, 3, 4, 4, 7, 5, 5, 5,\n",
       "       3, 6, 4, 5, 6, 6, 3, 5, 4, 5, 6, 4, 5, 6, 8, 5, 4, 5, 4, 3, 5, 6,\n",
       "       5, 3, 6, 7, 6, 5, 5, 8, 6, 3, 4, 5, 5, 5, 9, 6, 3, 5, 2, 6, 7, 3,\n",
       "       6, 6, 5, 7, 5, 6, 5, 7, 5, 8, 2, 8, 4, 4, 6, 7, 5, 4, 5, 5, 4, 5,\n",
       "       7, 7, 8, 4, 5, 8, 6, 8, 7, 4, 4, 4, 5, 6, 4, 4, 5, 4, 5, 3, 5, 5,\n",
       "       6, 5, 8, 4, 5, 5, 4, 6, 5, 7, 4, 4, 5, 6, 4, 4, 5, 3, 3, 6, 3, 6,\n",
       "       4, 7, 4, 3, 5, 6, 2, 6, 7, 3, 4, 6, 5, 8, 6, 3, 3, 6, 8, 4, 6, 5,\n",
       "       5, 7, 6, 5, 2, 6, 5, 4, 3, 7, 5, 5, 6, 5, 6, 5, 6, 6, 3, 4, 7, 4,\n",
       "       1, 4, 4, 9, 7, 4, 4, 8, 4, 5, 5, 6, 3, 5, 6, 5, 6, 4, 6, 9, 5, 4,\n",
       "       5, 5, 5, 6, 5, 6, 1, 4, 4, 7, 2, 6, 6, 3, 3, 5, 5, 6, 4, 4, 6, 3,\n",
       "       4, 3, 6, 5, 6, 2, 4, 4, 4, 3, 5, 6, 4, 6, 4, 4, 6, 5, 4, 6, 5, 4,\n",
       "       7, 2, 8, 6, 5, 5, 5, 5, 4, 5, 6, 5, 4, 8, 6, 5, 3, 6, 6, 3, 7, 5,\n",
       "       4, 6, 7, 2, 6, 5, 6, 3, 4, 3, 8, 4, 4, 5, 7, 5, 2, 5, 4, 6, 7, 5,\n",
       "       5, 7, 4, 6, 5, 4, 2, 3, 7, 7, 3, 3, 7, 2, 7, 7, 7, 5, 7, 8, 7, 2,\n",
       "       5, 5, 3, 5, 4, 4, 5, 6, 9, 7, 3, 6, 4, 5, 3, 6, 4, 5, 5, 5, 5, 4,\n",
       "       5, 9, 5, 7, 3, 4, 6, 7, 6, 4, 5, 7, 3, 5, 4, 3, 4, 6, 7, 8, 7, 4,\n",
       "       4, 5, 5, 5, 2, 5, 4, 3, 4, 4, 7, 5, 5, 6, 7, 8, 8, 4, 7, 7, 4, 6,\n",
       "       6, 4, 6, 5, 7, 7, 2, 7, 7, 6, 4, 7, 5, 2, 4, 4, 4, 8, 7, 7, 7, 7,\n",
       "       5, 7, 6, 6, 5, 6, 3, 6, 5, 4, 5, 7, 5, 2, 5, 5, 6, 3, 4, 4, 8, 6,\n",
       "       5, 7, 4, 5, 4, 5, 5, 5, 2, 1, 6, 4, 3, 3, 7, 3, 4, 5, 4, 5, 6, 4,\n",
       "       5, 6, 2, 4, 7, 3, 7, 6, 2, 7, 6, 5, 5, 2, 9, 4, 9, 7, 2, 7, 5, 6,\n",
       "       8, 3, 5, 3, 5, 7, 5, 3, 6, 6, 6, 3, 4, 8, 3, 6, 4, 5, 3, 5, 4, 7,\n",
       "       5, 5, 2, 8, 6, 4, 6, 3, 5, 4, 4, 6, 4, 7, 7, 7, 9, 4, 6, 8, 7, 7,\n",
       "       7, 6, 7, 5, 6, 6, 5, 6, 6, 5, 6, 4, 5, 5, 7, 4, 4, 5, 4, 5, 7, 6,\n",
       "       5, 5, 4, 6, 4, 6, 6, 5, 3, 3, 3, 5, 4, 3, 4, 4, 5, 2, 7, 5, 8, 5,\n",
       "       3, 3, 4, 6, 3, 6, 3, 5, 4, 5, 5, 9, 6, 4, 3, 6, 3, 7, 4, 4, 4, 5,\n",
       "       4, 8, 5, 6, 7, 5, 7, 6, 3, 6, 8, 5, 5, 5, 7, 5, 4, 7, 6, 6, 4, 7,\n",
       "       8, 7, 5, 7, 4, 3, 4, 5, 6, 4, 5, 6, 7, 5, 3, 4, 9, 4, 3, 3, 3, 5,\n",
       "       5, 6, 9, 5, 7, 6, 3, 8, 4, 5, 6, 7, 6, 3, 2, 5, 5, 5, 4, 5, 4, 5,\n",
       "       6, 4, 4, 3, 6, 7, 5, 3, 2, 4, 3, 4, 7, 3, 3, 3, 6, 4, 3, 5, 3, 4,\n",
       "       4, 4, 5, 5, 3, 4, 6, 5, 5, 6, 3, 5, 6, 6, 7, 5, 7, 6, 3, 7, 6, 6,\n",
       "       5, 5, 6, 6, 6, 8, 5, 5, 3, 5, 5, 4, 5, 8, 4, 7, 7, 7, 4, 6, 4, 4,\n",
       "       4, 4, 2, 6, 5, 6, 2, 6, 3, 4, 4, 4, 4, 4, 4, 3, 3, 8, 4, 5, 1, 6,\n",
       "       5, 3, 5, 5, 6, 5, 5, 5, 7, 5, 6, 7, 5, 5, 7, 4, 5, 5, 5, 5, 6, 3,\n",
       "       5, 6, 4, 5, 7, 5, 6, 3, 2, 8, 3, 4, 5, 4, 5, 4, 6, 5, 3, 8, 6, 8,\n",
       "       3, 4, 6, 4, 5, 6, 7, 5, 7, 5, 8, 3, 5, 5, 6, 5, 6, 5, 5, 5, 5, 5,\n",
       "       5, 2, 6, 5, 6, 5, 2, 9, 4, 5, 5, 8, 7, 3, 6, 2, 5, 4, 6, 4, 7, 7,\n",
       "       2, 1, 4, 6, 6, 3, 5, 6, 5, 8, 4, 6, 7, 5, 6, 5, 7, 3, 6, 5, 4, 7,\n",
       "       3, 3, 7, 6, 6, 4, 5, 6, 5, 5, 5, 4, 2, 4, 2, 4, 4, 4, 8, 4, 1, 4,\n",
       "       7, 8, 7, 5, 8, 6, 4, 4, 5, 6, 4, 6, 4, 7, 7, 5, 6, 4, 4, 2, 4, 7,\n",
       "       2, 3, 6, 5, 4, 1, 5, 4, 5, 7, 4, 6, 9, 7, 5, 6, 3, 5, 7, 5, 3, 4,\n",
       "       2, 5, 6, 5, 6, 6, 3, 2, 4, 4, 8, 6, 6, 4, 7, 5, 3, 5, 5, 5, 3, 2,\n",
       "       6, 5, 5, 4, 6, 4, 5, 4, 7, 6, 4, 6, 5, 2, 3, 7, 4, 2, 6, 7, 4, 6,\n",
       "       6, 5, 4, 5, 8, 5, 6, 5, 2, 3, 4, 5, 7, 4, 5, 3, 5, 6, 3, 5, 4, 5,\n",
       "       6, 5, 2, 2, 3, 4, 6, 5, 6, 7])"
      ]
     },
     "execution_count": 19,
     "metadata": {},
     "output_type": "execute_result"
    }
   ],
   "source": [
    "import numpy as np\n",
    "x = np.random.binomial(n = 10, p = 0.5, size = 1000)\n",
    "x"
   ]
  },
  {
   "cell_type": "code",
   "execution_count": 20,
   "id": "83f3ca2a",
   "metadata": {},
   "outputs": [
    {
     "data": {
      "image/png": "[encoded data removed]",
      "text/plain": [
       "<Figure size 432x288 with 1 Axes>"
      ]
     },
     "metadata": {
      "needs_background": "light"
     },
     "output_type": "display_data"
    }
   ],
   "source": [
    "sns.distplot(x, hist = True, kde = False)\n",
    "plt.show()"
   ]
  },
  {
   "cell_type": "markdown",
   "id": "acec2252",
   "metadata": {},
   "source": [
    "### <font color=darkred> **Difference Between Normal and Binomial Distribution**"
   ]
  },
  {
   "cell_type": "markdown",
   "id": "245ea8ef",
   "metadata": {},
   "source": [
    "#### The main difference is that normal distribution is continous whereas binomial is discrete, but if there are enough data points it will be quite similar to normal distribution with certain loc and scale."
   ]
  },
  {
   "cell_type": "code",
   "execution_count": 28,
   "id": "11e7dce0",
   "metadata": {},
   "outputs": [
    {
     "name": "stderr",
     "output_type": "stream",
     "text": [
      "c:\\users\\cad_23\\appdata\\local\\programs\\python\\python39\\lib\\site-packages\\seaborn\\distributions.py:2619: FutureWarning: `distplot` is a deprecated function and will be removed in a future version. Please adapt your code to use either `displot` (a figure-level function with similar flexibility) or `kdeplot` (an axes-level function for kernel density plots).\n",
      "  warnings.warn(msg, FutureWarning)\n",
      "c:\\users\\cad_23\\appdata\\local\\programs\\python\\python39\\lib\\site-packages\\seaborn\\distributions.py:2619: FutureWarning: `distplot` is a deprecated function and will be removed in a future version. Please adapt your code to use either `displot` (a figure-level function with similar flexibility) or `kdeplot` (an axes-level function for kernel density plots).\n",
      "  warnings.warn(msg, FutureWarning)\n"
     ]
    },
    {
     "data": {
      "image/png": "[encoded data removed]",
      "text/plain": [
       "<Figure size 432x288 with 1 Axes>"
      ]
     },
     "metadata": {
      "needs_background": "light"
     },
     "output_type": "display_data"
    }
   ],
   "source": [
    "sns.distplot(np.random.normal(loc=50, scale=5,size=1000), hist = False, label = 'Normal')\n",
    "sns.distplot(np.random.binomial(n=100, p=0.5, size=1000), hist = False, label = 'Binomial')\n",
    "plt.legend()\n",
    "plt.show()"
   ]
  },
  {
   "cell_type": "markdown",
   "id": "80827c9e",
   "metadata": {},
   "source": [
    "### <font color=darkred> **Poisson Distribution**"
   ]
  },
  {
   "cell_type": "markdown",
   "id": "ed558117",
   "metadata": {},
   "source": [
    "#### Poisson Distribution is a Discrete Distribution.\n",
    "\n",
    "    It estimates how many times an event can happen in a specified time. e.g. If someone eats twice a day what is probability he     will eat thrice?\n",
    "\n",
    "    It has two parameters:\n",
    "\n",
    "    lam - rate or known number of occurences e.g. 2 for above problem.\n",
    "\n",
    "    size - The shape of the returned array."
   ]
  },
  {
   "cell_type": "markdown",
   "id": "95c87497",
   "metadata": {},
   "source": [
    "#### <font color=red> *Example:Generate a random 1x10 distribution for occurence 2:*"
   ]
  },
  {
   "cell_type": "code",
   "execution_count": 29,
   "id": "c2b64d75",
   "metadata": {},
   "outputs": [
    {
     "data": {
      "text/plain": [
       "array([3, 2, 1, 0, 4, 3, 4, 1, 3, 2])"
      ]
     },
     "execution_count": 29,
     "metadata": {},
     "output_type": "execute_result"
    }
   ],
   "source": [
    "x = np.random.poisson(lam = 2, size = 10)\n",
    "x"
   ]
  },
  {
   "cell_type": "code",
   "execution_count": 30,
   "id": "0753be99",
   "metadata": {},
   "outputs": [
    {
     "name": "stderr",
     "output_type": "stream",
     "text": [
      "c:\\users\\cad_23\\appdata\\local\\programs\\python\\python39\\lib\\site-packages\\seaborn\\distributions.py:2619: FutureWarning: `distplot` is a deprecated function and will be removed in a future version. Please adapt your code to use either `displot` (a figure-level function with similar flexibility) or `histplot` (an axes-level function for histograms).\n",
      "  warnings.warn(msg, FutureWarning)\n"
     ]
    },
    {
     "data": {
      "image/png": "[encoded data removed]",
      "text/plain": [
       "<Figure size 432x288 with 1 Axes>"
      ]
     },
     "metadata": {
      "needs_background": "light"
     },
     "output_type": "display_data"
    }
   ],
   "source": [
    "sns.distplot(x)\n",
    "plt.show()"
   ]
  },
  {
   "cell_type": "code",
   "execution_count": 33,
   "id": "781c67eb",
   "metadata": {},
   "outputs": [
    {
     "data": {
      "image/png": "[encoded data removed]",
      "text/plain": [
       "<Figure size 432x288 with 1 Axes>"
      ]
     },
     "metadata": {
      "needs_background": "light"
     },
     "output_type": "display_data"
    }
   ],
   "source": [
    "sns.distplot(np.random.poisson(lam = 2, size = 1000),kde = False)\n",
    "plt.show()"
   ]
  },
  {
   "cell_type": "markdown",
   "id": "c8908653",
   "metadata": {},
   "source": [
    "### <font color=darkred> **Difference Between Normal and Poisson Distribution**"
   ]
  },
  {
   "cell_type": "markdown",
   "id": "04621b0b",
   "metadata": {},
   "source": [
    "#### Normal distribution is continous whereas poisson is discrete.But we can see that similar to binomial for a large enough poisson distribution it will become similar to normal distribution with certain std dev and mean."
   ]
  },
  {
   "cell_type": "markdown",
   "id": "d6a29922",
   "metadata": {},
   "source": [
    "#### <font color=red> *Example:Create a Normal and Poisson Distribution Plot:*"
   ]
  },
  {
   "cell_type": "code",
   "execution_count": 36,
   "id": "5c5731db",
   "metadata": {},
   "outputs": [
    {
     "name": "stderr",
     "output_type": "stream",
     "text": [
      "c:\\users\\cad_23\\appdata\\local\\programs\\python\\python39\\lib\\site-packages\\seaborn\\distributions.py:2619: FutureWarning: `distplot` is a deprecated function and will be removed in a future version. Please adapt your code to use either `displot` (a figure-level function with similar flexibility) or `kdeplot` (an axes-level function for kernel density plots).\n",
      "  warnings.warn(msg, FutureWarning)\n",
      "c:\\users\\cad_23\\appdata\\local\\programs\\python\\python39\\lib\\site-packages\\seaborn\\distributions.py:2619: FutureWarning: `distplot` is a deprecated function and will be removed in a future version. Please adapt your code to use either `displot` (a figure-level function with similar flexibility) or `kdeplot` (an axes-level function for kernel density plots).\n",
      "  warnings.warn(msg, FutureWarning)\n"
     ]
    },
    {
     "data": {
      "image/png": "[encoded data removed]",
      "text/plain": [
       "<Figure size 432x288 with 1 Axes>"
      ]
     },
     "metadata": {
      "needs_background": "light"
     },
     "output_type": "display_data"
    }
   ],
   "source": [
    "sns.distplot(np.random.normal(loc = 50, scale = 7, size = 1000), hist = False, label = 'Normal')\n",
    "sns.distplot(np.random.poisson(lam = 50, size = 1000), hist = False, label = 'Poissons')\n",
    "plt.legend()\n",
    "plt.show()"
   ]
  },
  {
   "cell_type": "code",
   "execution_count": null,
   "id": "48e42f2a",
   "metadata": {},
   "outputs": [],
   "source": []
  },
  {
   "cell_type": "code",
   "execution_count": null,
   "id": "00a442ff",
   "metadata": {},
   "outputs": [],
   "source": []
  },
  {
   "cell_type": "markdown",
   "id": "0f4b5c3f",
   "metadata": {},
   "source": [
    "### <font color=darkred> **Difference Between Poisson and Binomial Distribution**"
   ]
  },
  {
   "cell_type": "markdown",
   "id": "fba1cf14",
   "metadata": {},
   "source": [
    "#### The difference is very subtle it is that, binomial distribution is for discrete trials, whereas poisson distribution is for continuous trials.But for very large n and near-zero p binomial distribution is near identical to poisson distribution such that n * p is nearly equal to lam."
   ]
  },
  {
   "cell_type": "markdown",
   "id": "27741636",
   "metadata": {},
   "source": [
    "#### <font color=red> *Example:Create a Poisson and  Binomial Distribution Plot:*"
   ]
  },
  {
   "cell_type": "code",
   "execution_count": 40,
   "id": "8233c0ac",
   "metadata": {},
   "outputs": [
    {
     "name": "stderr",
     "output_type": "stream",
     "text": [
      "c:\\users\\cad_23\\appdata\\local\\programs\\python\\python39\\lib\\site-packages\\seaborn\\distributions.py:2619: FutureWarning: `distplot` is a deprecated function and will be removed in a future version. Please adapt your code to use either `displot` (a figure-level function with similar flexibility) or `kdeplot` (an axes-level function for kernel density plots).\n",
      "  warnings.warn(msg, FutureWarning)\n",
      "c:\\users\\cad_23\\appdata\\local\\programs\\python\\python39\\lib\\site-packages\\seaborn\\distributions.py:2619: FutureWarning: `distplot` is a deprecated function and will be removed in a future version. Please adapt your code to use either `displot` (a figure-level function with similar flexibility) or `kdeplot` (an axes-level function for kernel density plots).\n",
      "  warnings.warn(msg, FutureWarning)\n"
     ]
    },
    {
     "data": {
      "image/png": "[encoded data removed]",
      "text/plain": [
       "<Figure size 432x288 with 1 Axes>"
      ]
     },
     "metadata": {
      "needs_background": "light"
     },
     "output_type": "display_data"
    }
   ],
   "source": [
    "sns.distplot(np.random.poisson(lam = 10, size = 1000), hist = False, label = 'Poisson')\n",
    "sns.distplot(np.random.binomial(n = 1000, p = 0.01, size = 1000 ), hist = False, label = 'Binomial')\n",
    "plt.legend()\n",
    "plt.show()"
   ]
  },
  {
   "cell_type": "code",
   "execution_count": null,
   "id": "7a10f667",
   "metadata": {},
   "outputs": [],
   "source": []
  },
  {
   "cell_type": "code",
   "execution_count": null,
   "id": "1abb0da4",
   "metadata": {},
   "outputs": [],
   "source": []
  },
  {
   "cell_type": "code",
   "execution_count": null,
   "id": "8b35eeec",
   "metadata": {},
   "outputs": [],
   "source": [
    "### <font color=darkred> **Poisson Distribution**"
   ]
  },
  {
   "cell_type": "code",
   "execution_count": null,
   "id": "ba0c69b4",
   "metadata": {},
   "outputs": [],
   "source": [
    "#### The main difference is that normal distribution is continous whereas binomial is discrete, but if there are enough data points it will be quite similar to normal distribution with certain loc and scale."
   ]
  },
  {
   "cell_type": "code",
   "execution_count": null,
   "id": "ce11303d",
   "metadata": {},
   "outputs": [],
   "source": [
    "<font color=red> *Example:Given 10 trials for coin toss generate 10 data points:*"
   ]
  },
  {
   "cell_type": "code",
   "execution_count": null,
   "id": "82a73581",
   "metadata": {},
   "outputs": [],
   "source": []
  },
  {
   "cell_type": "code",
   "execution_count": null,
   "id": "38986a2c",
   "metadata": {},
   "outputs": [],
   "source": []
  },
  {
   "cell_type": "code",
   "execution_count": null,
   "id": "2548a3ca",
   "metadata": {},
   "outputs": [],
   "source": [
    "### <font color=darkred> **Poisson Distribution**"
   ]
  },
  {
   "cell_type": "code",
   "execution_count": null,
   "id": "5622ac33",
   "metadata": {},
   "outputs": [],
   "source": [
    "#### The main difference is that normal distribution is continous whereas binomial is discrete, but if there are enough data points it will be quite similar to normal distribution with certain loc and scale."
   ]
  },
  {
   "cell_type": "code",
   "execution_count": null,
   "id": "d87eabb0",
   "metadata": {},
   "outputs": [],
   "source": [
    "<font color=red> *Example:Given 10 trials for coin toss generate 10 data points:*"
   ]
  },
  {
   "cell_type": "code",
   "execution_count": null,
   "id": "ab896490",
   "metadata": {},
   "outputs": [],
   "source": []
  },
  {
   "cell_type": "code",
   "execution_count": null,
   "id": "c40a8c5d",
   "metadata": {},
   "outputs": [],
   "source": []
  },
  {
   "cell_type": "code",
   "execution_count": null,
   "id": "4f46b6f7",
   "metadata": {},
   "outputs": [],
   "source": []
  },
  {
   "cell_type": "code",
   "execution_count": null,
   "id": "fd355176",
   "metadata": {},
   "outputs": [],
   "source": [
    "### <font color=darkred> **Poisson Distribution**"
   ]
  },
  {
   "cell_type": "code",
   "execution_count": null,
   "id": "6fb9b40d",
   "metadata": {},
   "outputs": [],
   "source": [
    "#### The main difference is that normal distribution is continous whereas binomial is discrete, but if there are enough data points it will be quite similar to normal distribution with certain loc and scale."
   ]
  },
  {
   "cell_type": "code",
   "execution_count": null,
   "id": "788d6d30",
   "metadata": {},
   "outputs": [],
   "source": [
    "<font color=red> *Example:Given 10 trials for coin toss generate 10 data points:*"
   ]
  },
  {
   "cell_type": "code",
   "execution_count": null,
   "id": "b841394e",
   "metadata": {},
   "outputs": [],
   "source": []
  },
  {
   "cell_type": "code",
   "execution_count": null,
   "id": "66a647ff",
   "metadata": {},
   "outputs": [],
   "source": []
  },
  {
   "cell_type": "code",
   "execution_count": null,
   "id": "5d178edb",
   "metadata": {},
   "outputs": [],
   "source": [
    "### <font color=darkred> **Poisson Distribution**"
   ]
  },
  {
   "cell_type": "code",
   "execution_count": null,
   "id": "c3dbb04f",
   "metadata": {},
   "outputs": [],
   "source": [
    "#### The main difference is that normal distribution is continous whereas binomial is discrete, but if there are enough data points it will be quite similar to normal distribution with certain loc and scale."
   ]
  },
  {
   "cell_type": "code",
   "execution_count": null,
   "id": "eb11a3bb",
   "metadata": {},
   "outputs": [],
   "source": [
    "<font color=red> *Example:Given 10 trials for coin toss generate 10 data points:*"
   ]
  },
  {
   "cell_type": "code",
   "execution_count": null,
   "id": "bcb74289",
   "metadata": {},
   "outputs": [],
   "source": []
  },
  {
   "cell_type": "code",
   "execution_count": null,
   "id": "2ddfaf23",
   "metadata": {},
   "outputs": [],
   "source": []
  },
  {
   "cell_type": "code",
   "execution_count": null,
   "id": "34556ac3",
   "metadata": {},
   "outputs": [],
   "source": []
  },
  {
   "cell_type": "code",
   "execution_count": null,
   "id": "8c101134",
   "metadata": {},
   "outputs": [],
   "source": [
    "### <font color=darkred> **Poisson Distribution**"
   ]
  },
  {
   "cell_type": "code",
   "execution_count": null,
   "id": "292f9051",
   "metadata": {},
   "outputs": [],
   "source": [
    "#### The main difference is that normal distribution is continous whereas binomial is discrete, but if there are enough data points it will be quite similar to normal distribution with certain loc and scale."
   ]
  },
  {
   "cell_type": "code",
   "execution_count": null,
   "id": "d473d28d",
   "metadata": {},
   "outputs": [],
   "source": [
    "<font color=red> *Example:Given 10 trials for coin toss generate 10 data points:*"
   ]
  },
  {
   "cell_type": "code",
   "execution_count": null,
   "id": "ad03abd5",
   "metadata": {},
   "outputs": [],
   "source": []
  },
  {
   "cell_type": "code",
   "execution_count": null,
   "id": "58d0a8c2",
   "metadata": {},
   "outputs": [],
   "source": []
  },
  {
   "cell_type": "code",
   "execution_count": null,
   "id": "507cefb7",
   "metadata": {},
   "outputs": [],
   "source": []
  },
  {
   "cell_type": "code",
   "execution_count": null,
   "id": "543e83be",
   "metadata": {},
   "outputs": [],
   "source": []
  },
  {
   "cell_type": "code",
   "execution_count": null,
   "id": "d6d3d347",
   "metadata": {},
   "outputs": [],
   "source": [
    "### <font color=darkred> **Poisson Distribution**"
   ]
  },
  {
   "cell_type": "code",
   "execution_count": null,
   "id": "308c215c",
   "metadata": {},
   "outputs": [],
   "source": [
    "#### The main difference is that normal distribution is continous whereas binomial is discrete, but if there are enough data points it will be quite similar to normal distribution with certain loc and scale."
   ]
  },
  {
   "cell_type": "code",
   "execution_count": null,
   "id": "9d3dc818",
   "metadata": {},
   "outputs": [],
   "source": [
    "<font color=red> *Example:Given 10 trials for coin toss generate 10 data points:*"
   ]
  },
  {
   "cell_type": "code",
   "execution_count": null,
   "id": "3bb2966c",
   "metadata": {},
   "outputs": [],
   "source": []
  },
  {
   "cell_type": "code",
   "execution_count": null,
   "id": "890ce56d",
   "metadata": {},
   "outputs": [],
   "source": []
  },
  {
   "cell_type": "code",
   "execution_count": null,
   "id": "c701a23b",
   "metadata": {},
   "outputs": [],
   "source": []
  },
  {
   "cell_type": "code",
   "execution_count": null,
   "id": "516663aa",
   "metadata": {},
   "outputs": [],
   "source": [
    "### <font color=darkred> **Poisson Distribution**"
   ]
  },
  {
   "cell_type": "code",
   "execution_count": null,
   "id": "adbaeff7",
   "metadata": {},
   "outputs": [],
   "source": [
    "#### The main difference is that normal distribution is continous whereas binomial is discrete, but if there are enough data points it will be quite similar to normal distribution with certain loc and scale."
   ]
  },
  {
   "cell_type": "code",
   "execution_count": null,
   "id": "241e1891",
   "metadata": {},
   "outputs": [],
   "source": [
    "<font color=red> *Example:Given 10 trials for coin toss generate 10 data points:*"
   ]
  },
  {
   "cell_type": "code",
   "execution_count": null,
   "id": "91e8fe9d",
   "metadata": {},
   "outputs": [],
   "source": []
  },
  {
   "cell_type": "code",
   "execution_count": null,
   "id": "a3f220a9",
   "metadata": {},
   "outputs": [],
   "source": []
  },
  {
   "cell_type": "code",
   "execution_count": null,
   "id": "29bc7bdc",
   "metadata": {},
   "outputs": [],
   "source": []
  },
  {
   "cell_type": "code",
   "execution_count": null,
   "id": "31214263",
   "metadata": {},
   "outputs": [],
   "source": []
  },
  {
   "cell_type": "code",
   "execution_count": null,
   "id": "369ea405",
   "metadata": {},
   "outputs": [],
   "source": [
    "### <font color=darkred> **Poisson Distribution**"
   ]
  },
  {
   "cell_type": "code",
   "execution_count": null,
   "id": "80e18cfa",
   "metadata": {},
   "outputs": [],
   "source": [
    "#### The main difference is that normal distribution is continous whereas binomial is discrete, but if there are enough data points it will be quite similar to normal distribution with certain loc and scale."
   ]
  },
  {
   "cell_type": "code",
   "execution_count": null,
   "id": "43ffef74",
   "metadata": {},
   "outputs": [],
   "source": [
    "<font color=red> *Example:Given 10 trials for coin toss generate 10 data points:*"
   ]
  },
  {
   "cell_type": "code",
   "execution_count": null,
   "id": "9aec93a5",
   "metadata": {},
   "outputs": [],
   "source": []
  },
  {
   "cell_type": "code",
   "execution_count": null,
   "id": "9d6b14b6",
   "metadata": {},
   "outputs": [],
   "source": []
  },
  {
   "cell_type": "code",
   "execution_count": null,
   "id": "72ce0a82",
   "metadata": {},
   "outputs": [],
   "source": []
  }
 ],
 "metadata": {
  "kernelspec": {
   "display_name": "Python 3 (ipykernel)",
   "language": "python",
   "name": "python3"
  },
  "language_info": {
   "codemirror_mode": {
    "name": "ipython",
    "version": 3
   },
   "file_extension": ".py",
   "mimetype": "text/x-python",
   "name": "python",
   "nbconvert_exporter": "python",
   "pygments_lexer": "ipython3",
   "version": "3.9.6"
  }
 },
 "nbformat": 4,
 "nbformat_minor": 5
}
